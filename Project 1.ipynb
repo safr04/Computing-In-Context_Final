{
 "cells": [
  {
   "cell_type": "markdown",
   "id": "eef12bcf-8055-4dd8-9709-539935488514",
   "metadata": {},
   "source": [
    "# __Project 1__"
   ]
  },
  {
   "cell_type": "markdown",
   "id": "34f2a00d",
   "metadata": {},
   "source": [
    "## Calculation of Mean, Median and Mode with Pandas"
   ]
  },
  {
   "cell_type": "markdown",
   "id": "8cefab8f-c3bd-4348-8c6e-b0fbfdcc15ea",
   "metadata": {},
   "source": [
    "__Step 1: Importing pandas and plotly__"
   ]
  },
  {
   "cell_type": "code",
   "execution_count": 56,
   "id": "3eb731d2-e1f0-435b-8751-bb493f6d43a5",
   "metadata": {},
   "outputs": [],
   "source": [
    "import pandas as pd"
   ]
  },
  {
   "cell_type": "markdown",
   "id": "bd34461f-5c71-4a84-ad3c-d81191baf00c",
   "metadata": {},
   "source": [
    "__Step 2: Load the CSV file__"
   ]
  },
  {
   "cell_type": "code",
   "execution_count": 57,
   "id": "342514af-3adb-4598-907a-9eca95517f42",
   "metadata": {},
   "outputs": [
    {
     "data": {
      "text/html": [
       "<div>\n",
       "<style scoped>\n",
       "    .dataframe tbody tr th:only-of-type {\n",
       "        vertical-align: middle;\n",
       "    }\n",
       "\n",
       "    .dataframe tbody tr th {\n",
       "        vertical-align: top;\n",
       "    }\n",
       "\n",
       "    .dataframe thead th {\n",
       "        text-align: right;\n",
       "    }\n",
       "</style>\n",
       "<table border=\"1\" class=\"dataframe\">\n",
       "  <thead>\n",
       "    <tr style=\"text-align: right;\">\n",
       "      <th></th>\n",
       "      <th>Date</th>\n",
       "      <th>All</th>\n",
       "    </tr>\n",
       "  </thead>\n",
       "  <tbody>\n",
       "    <tr>\n",
       "      <th>0</th>\n",
       "      <td>Aug-2024</td>\n",
       "      <td>3.9%</td>\n",
       "    </tr>\n",
       "    <tr>\n",
       "      <th>1</th>\n",
       "      <td>Jul-2024</td>\n",
       "      <td>3.9%</td>\n",
       "    </tr>\n",
       "    <tr>\n",
       "      <th>2</th>\n",
       "      <td>Jun-2024</td>\n",
       "      <td>3.8%</td>\n",
       "    </tr>\n",
       "    <tr>\n",
       "      <th>3</th>\n",
       "      <td>May-2024</td>\n",
       "      <td>3.8%</td>\n",
       "    </tr>\n",
       "    <tr>\n",
       "      <th>4</th>\n",
       "      <td>Apr-2024</td>\n",
       "      <td>3.7%</td>\n",
       "    </tr>\n",
       "  </tbody>\n",
       "</table>\n",
       "</div>"
      ],
      "text/plain": [
       "       Date   All\n",
       "0  Aug-2024  3.9%\n",
       "1  Jul-2024  3.9%\n",
       "2  Jun-2024  3.8%\n",
       "3  May-2024  3.8%\n",
       "4  Apr-2024  3.7%"
      ]
     },
     "execution_count": 57,
     "metadata": {},
     "output_type": "execute_result"
    }
   ],
   "source": [
    "df = pd.read_csv('EPI Data Library - Unemployment.csv')\n",
    "df.head()"
   ]
  },
  {
   "cell_type": "markdown",
   "id": "c6dc528c-0b28-4548-a1ee-5ef89cfe6351",
   "metadata": {},
   "source": [
    "__Step 3: Clean the Data__\n",
    "\n",
    "Data cleaning involves renaming the columns to ensure the right information is represented through them, this is followed by splitting the 'Date' column into Month and Year. Next, we eliminate the % sign from the Percentage Unemployed column and convert all values to numeric. "
   ]
  },
  {
   "cell_type": "code",
   "execution_count": 58,
   "id": "6c45801d-fbda-44b6-9ea1-77fc6f66c2b1",
   "metadata": {},
   "outputs": [
    {
     "data": {
      "text/html": [
       "<div>\n",
       "<style scoped>\n",
       "    .dataframe tbody tr th:only-of-type {\n",
       "        vertical-align: middle;\n",
       "    }\n",
       "\n",
       "    .dataframe tbody tr th {\n",
       "        vertical-align: top;\n",
       "    }\n",
       "\n",
       "    .dataframe thead th {\n",
       "        text-align: right;\n",
       "    }\n",
       "</style>\n",
       "<table border=\"1\" class=\"dataframe\">\n",
       "  <thead>\n",
       "    <tr style=\"text-align: right;\">\n",
       "      <th></th>\n",
       "      <th>Date</th>\n",
       "      <th>Percentage Unemployed</th>\n",
       "    </tr>\n",
       "  </thead>\n",
       "  <tbody>\n",
       "    <tr>\n",
       "      <th>0</th>\n",
       "      <td>Aug-2024</td>\n",
       "      <td>3.9%</td>\n",
       "    </tr>\n",
       "    <tr>\n",
       "      <th>1</th>\n",
       "      <td>Jul-2024</td>\n",
       "      <td>3.9%</td>\n",
       "    </tr>\n",
       "    <tr>\n",
       "      <th>2</th>\n",
       "      <td>Jun-2024</td>\n",
       "      <td>3.8%</td>\n",
       "    </tr>\n",
       "    <tr>\n",
       "      <th>3</th>\n",
       "      <td>May-2024</td>\n",
       "      <td>3.8%</td>\n",
       "    </tr>\n",
       "    <tr>\n",
       "      <th>4</th>\n",
       "      <td>Apr-2024</td>\n",
       "      <td>3.7%</td>\n",
       "    </tr>\n",
       "  </tbody>\n",
       "</table>\n",
       "</div>"
      ],
      "text/plain": [
       "       Date Percentage Unemployed\n",
       "0  Aug-2024                  3.9%\n",
       "1  Jul-2024                  3.9%\n",
       "2  Jun-2024                  3.8%\n",
       "3  May-2024                  3.8%\n",
       "4  Apr-2024                  3.7%"
      ]
     },
     "execution_count": 58,
     "metadata": {},
     "output_type": "execute_result"
    }
   ],
   "source": [
    "df = df.rename(columns={'Date': 'Date', 'All': 'Percentage Unemployed'})\n",
    "df.head()"
   ]
  },
  {
   "cell_type": "code",
   "execution_count": 59,
   "id": "22cbfb24-0c7f-4562-8ce5-010686e923b6",
   "metadata": {},
   "outputs": [
    {
     "data": {
      "text/html": [
       "<div>\n",
       "<style scoped>\n",
       "    .dataframe tbody tr th:only-of-type {\n",
       "        vertical-align: middle;\n",
       "    }\n",
       "\n",
       "    .dataframe tbody tr th {\n",
       "        vertical-align: top;\n",
       "    }\n",
       "\n",
       "    .dataframe thead th {\n",
       "        text-align: right;\n",
       "    }\n",
       "</style>\n",
       "<table border=\"1\" class=\"dataframe\">\n",
       "  <thead>\n",
       "    <tr style=\"text-align: right;\">\n",
       "      <th></th>\n",
       "      <th>Date</th>\n",
       "      <th>Percentage Unemployed</th>\n",
       "      <th>Month</th>\n",
       "      <th>Year</th>\n",
       "    </tr>\n",
       "  </thead>\n",
       "  <tbody>\n",
       "    <tr>\n",
       "      <th>0</th>\n",
       "      <td>Aug-2024</td>\n",
       "      <td>3.9%</td>\n",
       "      <td>Aug</td>\n",
       "      <td>2024</td>\n",
       "    </tr>\n",
       "    <tr>\n",
       "      <th>1</th>\n",
       "      <td>Jul-2024</td>\n",
       "      <td>3.9%</td>\n",
       "      <td>Jul</td>\n",
       "      <td>2024</td>\n",
       "    </tr>\n",
       "    <tr>\n",
       "      <th>2</th>\n",
       "      <td>Jun-2024</td>\n",
       "      <td>3.8%</td>\n",
       "      <td>Jun</td>\n",
       "      <td>2024</td>\n",
       "    </tr>\n",
       "    <tr>\n",
       "      <th>3</th>\n",
       "      <td>May-2024</td>\n",
       "      <td>3.8%</td>\n",
       "      <td>May</td>\n",
       "      <td>2024</td>\n",
       "    </tr>\n",
       "    <tr>\n",
       "      <th>4</th>\n",
       "      <td>Apr-2024</td>\n",
       "      <td>3.7%</td>\n",
       "      <td>Apr</td>\n",
       "      <td>2024</td>\n",
       "    </tr>\n",
       "  </tbody>\n",
       "</table>\n",
       "</div>"
      ],
      "text/plain": [
       "       Date Percentage Unemployed Month  Year\n",
       "0  Aug-2024                  3.9%   Aug  2024\n",
       "1  Jul-2024                  3.9%   Jul  2024\n",
       "2  Jun-2024                  3.8%   Jun  2024\n",
       "3  May-2024                  3.8%   May  2024\n",
       "4  Apr-2024                  3.7%   Apr  2024"
      ]
     },
     "execution_count": 59,
     "metadata": {},
     "output_type": "execute_result"
    }
   ],
   "source": [
    "df[['Month', 'Year']] = df['Date'].str.split('-', expand=True)\n",
    "df.head()"
   ]
  },
  {
   "cell_type": "code",
   "execution_count": 60,
   "id": "90a5f1bf-2d6a-4d30-9653-e32ba424b6e5",
   "metadata": {},
   "outputs": [],
   "source": [
    "df['Percentage Unemployed'] = df['Percentage Unemployed'].str.rstrip('%')"
   ]
  },
  {
   "cell_type": "code",
   "execution_count": 61,
   "id": "88905707-be1b-4fca-baf9-30124be88d4a",
   "metadata": {},
   "outputs": [
    {
     "data": {
      "text/html": [
       "<div>\n",
       "<style scoped>\n",
       "    .dataframe tbody tr th:only-of-type {\n",
       "        vertical-align: middle;\n",
       "    }\n",
       "\n",
       "    .dataframe tbody tr th {\n",
       "        vertical-align: top;\n",
       "    }\n",
       "\n",
       "    .dataframe thead th {\n",
       "        text-align: right;\n",
       "    }\n",
       "</style>\n",
       "<table border=\"1\" class=\"dataframe\">\n",
       "  <thead>\n",
       "    <tr style=\"text-align: right;\">\n",
       "      <th></th>\n",
       "      <th>Date</th>\n",
       "      <th>Percentage Unemployed</th>\n",
       "      <th>Month</th>\n",
       "      <th>Year</th>\n",
       "    </tr>\n",
       "  </thead>\n",
       "  <tbody>\n",
       "    <tr>\n",
       "      <th>0</th>\n",
       "      <td>Aug-2024</td>\n",
       "      <td>3.9</td>\n",
       "      <td>Aug</td>\n",
       "      <td>2024</td>\n",
       "    </tr>\n",
       "    <tr>\n",
       "      <th>1</th>\n",
       "      <td>Jul-2024</td>\n",
       "      <td>3.9</td>\n",
       "      <td>Jul</td>\n",
       "      <td>2024</td>\n",
       "    </tr>\n",
       "    <tr>\n",
       "      <th>2</th>\n",
       "      <td>Jun-2024</td>\n",
       "      <td>3.8</td>\n",
       "      <td>Jun</td>\n",
       "      <td>2024</td>\n",
       "    </tr>\n",
       "    <tr>\n",
       "      <th>3</th>\n",
       "      <td>May-2024</td>\n",
       "      <td>3.8</td>\n",
       "      <td>May</td>\n",
       "      <td>2024</td>\n",
       "    </tr>\n",
       "    <tr>\n",
       "      <th>4</th>\n",
       "      <td>Apr-2024</td>\n",
       "      <td>3.7</td>\n",
       "      <td>Apr</td>\n",
       "      <td>2024</td>\n",
       "    </tr>\n",
       "  </tbody>\n",
       "</table>\n",
       "</div>"
      ],
      "text/plain": [
       "       Date  Percentage Unemployed Month  Year\n",
       "0  Aug-2024                    3.9   Aug  2024\n",
       "1  Jul-2024                    3.9   Jul  2024\n",
       "2  Jun-2024                    3.8   Jun  2024\n",
       "3  May-2024                    3.8   May  2024\n",
       "4  Apr-2024                    3.7   Apr  2024"
      ]
     },
     "execution_count": 61,
     "metadata": {},
     "output_type": "execute_result"
    }
   ],
   "source": [
    "df['Percentage Unemployed'] = pd.to_numeric(df['Percentage Unemployed'])\n",
    "df.head()"
   ]
  },
  {
   "cell_type": "markdown",
   "id": "17313be0-5bfd-4490-8107-4635429f740a",
   "metadata": {},
   "source": [
    "__Step 4: Calculation of Mean, Median and Mode__ \n",
    "\n",
    "In-built functions for mean, median and mode are used to calculate these statistics"
   ]
  },
  {
   "cell_type": "code",
   "execution_count": 62,
   "id": "08573da8-3ee1-429d-abd2-49f627be9907",
   "metadata": {},
   "outputs": [
    {
     "name": "stdout",
     "output_type": "stream",
     "text": [
      "6.102185792349727\n"
     ]
    }
   ],
   "source": [
    "Mean = df[\"Percentage Unemployed\"].mean()\n",
    "print(Mean)"
   ]
  },
  {
   "cell_type": "code",
   "execution_count": 63,
   "id": "a8c93c3e-2dd1-40dc-a934-ca0e684c62dd",
   "metadata": {},
   "outputs": [
    {
     "name": "stdout",
     "output_type": "stream",
     "text": [
      "0    5.3\n",
      "Name: Percentage Unemployed, dtype: float64\n"
     ]
    }
   ],
   "source": [
    "Mode = df[\"Percentage Unemployed\"].mode()\n",
    "print(Mode)"
   ]
  },
  {
   "cell_type": "code",
   "execution_count": 64,
   "id": "0bb9cf98-f263-48e8-bd32-fb665c1739aa",
   "metadata": {},
   "outputs": [
    {
     "name": "stdout",
     "output_type": "stream",
     "text": [
      "5.8\n"
     ]
    }
   ],
   "source": [
    "Median = df[\"Percentage Unemployed\"].median()\n",
    "print(Median)"
   ]
  },
  {
   "cell_type": "markdown",
   "id": "7c1a5ff9-fed7-49b9-9d60-7ef6b49ec102",
   "metadata": {},
   "source": [
    "## __Calculation of Mean without Pandas__"
   ]
  },
  {
   "cell_type": "markdown",
   "id": "1f79becc-52dd-41cf-84e3-251d63a41bd8",
   "metadata": {},
   "source": [
    "For calculating the mean, the dataframe is first converted to a list, after that the sum of all the values is estimated and the mean is calculated by dividing the sum by the number of instances of a variable"
   ]
  },
  {
   "cell_type": "code",
   "execution_count": 75,
   "id": "9211b5ca-fa50-4336-acb9-0d567aa3b1ed",
   "metadata": {},
   "outputs": [],
   "source": [
    "percentage_unemployed = df['Percentage Unemployed'].tolist()\n",
    "for item in percentage_unemployed:\n",
    "    float(item)"
   ]
  },
  {
   "cell_type": "code",
   "execution_count": 103,
   "id": "12ef4826-2319-492a-b62f-28b791570892",
   "metadata": {},
   "outputs": [],
   "source": [
    "unemployed_sum = sum(percentage_unemployed)"
   ]
  },
  {
   "cell_type": "code",
   "execution_count": 93,
   "id": "28850390-91b0-45f7-95b3-e68d2a7197bf",
   "metadata": {},
   "outputs": [],
   "source": [
    "del len"
   ]
  },
  {
   "cell_type": "code",
   "execution_count": 94,
   "id": "e6e4ca0f-45c4-40eb-9d4a-b46e997feb79",
   "metadata": {},
   "outputs": [],
   "source": [
    "unemployed_no = len(percentage_unemployed)"
   ]
  },
  {
   "cell_type": "code",
   "execution_count": 102,
   "id": "758888c7-7953-4cef-90b3-da623a33d29f",
   "metadata": {},
   "outputs": [
    {
     "name": "stdout",
     "output_type": "stream",
     "text": [
      "Mean is: 6.102185792349727\n"
     ]
    }
   ],
   "source": [
    "mean_unemployment = unemployed_sum / unemployed_no\n",
    "print('Mean is: ' + str(mean_unemployment))"
   ]
  },
  {
   "attachments": {},
   "cell_type": "markdown",
   "id": "7230e78d-9bc2-4e5c-aed2-37779a460595",
   "metadata": {},
   "source": [
    "## __Calculation of Median Without Pandas__\n"
   ]
  },
  {
   "cell_type": "markdown",
   "id": "b912f4bc-50ad-4e94-a895-e411317c1270",
   "metadata": {},
   "source": [
    "The median is calculated in the following steps:\n",
    "First, the number of elements (n) are counted and then the list of the valys is sorted. If the list length is even, the median is calculated as the average of the two middle values. If the length is odd, the median is the middle value directly. Finally, the computed median is printed. "
   ]
  },
  {
   "cell_type": "code",
   "execution_count": 100,
   "id": "7ff112e9-4c0b-4eb5-8409-9d30f1283cd9",
   "metadata": {},
   "outputs": [
    {
     "name": "stdout",
     "output_type": "stream",
     "text": [
      "Median is: 5.8\n"
     ]
    }
   ],
   "source": [
    "n = len(percentage_unemployed) \n",
    "percentage_unemployed.sort() \n",
    " \n",
    "if n % 2 == 0: \n",
    "    median1 = percentage_unemployed[n//2] \n",
    "    median2 = percentage_unemployed[n//2 - 1] \n",
    "    median = (median1 + median2)/2\n",
    "else: \n",
    "    median = percentage_unemployed[n//2] \n",
    "print('Median is: ' + str(median)) "
   ]
  },
  {
   "cell_type": "markdown",
   "id": "09182d17-e7e7-4cf4-a06b-5fde89fa9562",
   "metadata": {},
   "source": [
    "## __Calculation of Mode Without Pandas__"
   ]
  },
  {
   "cell_type": "markdown",
   "id": "c469a452-55cc-4195-b288-5df5583f0733",
   "metadata": {},
   "source": [
    "To calculate the mode, the values in the dataset are first counted using a dictionary, where each unique value is mapped to its frequency of occurrence. Once the frequencies are determined, the maximum frequency is identified, and all values corresponding to this frequency are extracted as the mode. The final mode is printed."
   ]
  },
  {
   "cell_type": "code",
   "execution_count": 113,
   "id": "6f7ad59e-6e33-436a-a4e8-310287c77ec5",
   "metadata": {},
   "outputs": [
    {
     "name": "stdout",
     "output_type": "stream",
     "text": [
      "Mode is:[5.3]\n"
     ]
    }
   ],
   "source": [
    "# Step 1: Count the occurrences of each value using a dictionary\n",
    "frequency_dict = {}\n",
    "for value in percentage_unemployed:\n",
    "    if value in frequency_dict:\n",
    "        frequency_dict[value] += 1\n",
    "    else:\n",
    "        frequency_dict[value] = 1\n",
    "\n",
    "# Step 2: Find the maximum frequency\n",
    "max_frequency = max(frequency_dict.values())\n",
    "\n",
    "# Step 3: Find all values with the maximum frequency\n",
    "modes = [key for key, freq in frequency_dict.items() if freq == max_frequency]\n",
    "\n",
    "# Print results\n",
    "print('Mode is:' + str(modes))"
   ]
  },
  {
   "cell_type": "markdown",
   "id": "fd465533-49df-4a53-8d64-97914819137b",
   "metadata": {},
   "source": [
    "## __Data Visualisation__\n"
   ]
  },
  {
   "cell_type": "markdown",
   "id": "8d7623ce-8115-47ad-94f1-fc308256ac87",
   "metadata": {},
   "source": [
    "_The first step in the data visualisation process is to group the data by year and consolidate it_"
   ]
  },
  {
   "cell_type": "code",
   "execution_count": 126,
   "id": "348e5fa1-9757-4187-9c95-1a00988f4c9d",
   "metadata": {},
   "outputs": [
    {
     "data": {
      "text/plain": [
       "Year\n",
       "1978    6.100000\n",
       "1979    5.908333\n",
       "1980    6.533333\n",
       "1981    7.550000\n",
       "1982    8.691667\n",
       "Name: Percentage Unemployed, dtype: float64"
      ]
     },
     "execution_count": 126,
     "metadata": {},
     "output_type": "execute_result"
    }
   ],
   "source": [
    "grouped_df = df.groupby('Year')['Percentage Unemployed'].mean()\n",
    "grouped_df.head()"
   ]
  },
  {
   "cell_type": "markdown",
   "id": "1f02726b-08bf-4171-a035-438679a26819",
   "metadata": {},
   "source": [
    "_The next step is to create a function for the sparkline visualisation. Inside the function, the data is converted to a dictionary for easier iteration, and the minimum, maximum, and range of values are calculated. For each data point (e.g., each year), it determines the number of stars to represent the value proportionally. If all data points have the same value, a default of 5 stars is assigned; otherwise, the value is normalized relative to the range of the dataset, scaled to a range of 0–10, and converted to a corresponding number of stars. Each year and its sparkline are printed._"
   ]
  },
  {
   "cell_type": "code",
   "execution_count": 125,
   "id": "168aa23a-6148-4a94-a5fa-0a6959e7221f",
   "metadata": {},
   "outputs": [
    {
     "name": "stdout",
     "output_type": "stream",
     "text": [
      "1978: ***\n",
      "1979: ***\n",
      "1980: ****\n",
      "1981: ******\n",
      "1982: *******\n",
      "1983: **********\n",
      "1984: *******\n",
      "1985: *****\n",
      "1986: *****\n",
      "1987: ****\n",
      "1988: ***\n",
      "1989: **\n",
      "1990: **\n",
      "1991: ****\n",
      "1992: *****\n",
      "1993: *****\n",
      "1994: ****\n",
      "1995: ***\n",
      "1996: ***\n",
      "1997: **\n",
      "1998: *\n",
      "1999: *\n",
      "2000: \n",
      "2001: *\n",
      "2002: **\n",
      "2003: ***\n",
      "2004: ***\n",
      "2005: **\n",
      "2006: *\n",
      "2007: *\n",
      "2008: **\n",
      "2009: ******\n",
      "2010: *********\n",
      "2011: ********\n",
      "2012: *******\n",
      "2013: ******\n",
      "2014: ****\n",
      "2015: ***\n",
      "2016: **\n",
      "2017: *\n",
      "2018: \n",
      "2019: \n",
      "2020: ***\n",
      "2021: *****\n",
      "2022: \n",
      "2023: \n",
      "2024: \n"
     ]
    }
   ],
   "source": [
    "# Use the grouped DataFrame as input\n",
    "data = grouped_df\n",
    "\n",
    "# Function to create sparkline\n",
    "def create_sparkline(data):\n",
    "    # Convert the Pandas Series into a dictionary\n",
    "    data_dict = data.to_dict()\n",
    "\n",
    "    # Find the minimum and maximum values\n",
    "    min_value = min(data_dict.values())\n",
    "    max_value = max(data_dict.values())\n",
    "    range_value = max_value - min_value\n",
    "\n",
    "    # Generate stars proportional to the values\n",
    "    for year, value in data_dict.items():\n",
    "        if range_value == 0:  # Handle case where all values are the same\n",
    "            stars = '*' * 5\n",
    "        else:\n",
    "            stars = '*' * int(((value - min_value) / range_value) * 10)\n",
    "        print(f\"{year}: {stars}\")\n",
    "\n",
    "# Call the function\n",
    "create_sparkline(grouped_df)"
   ]
  },
  {
   "cell_type": "code",
   "execution_count": null,
   "id": "aea96fc7-390b-4d2b-b005-15192bb1f642",
   "metadata": {},
   "outputs": [],
   "source": []
  },
  {
   "cell_type": "code",
   "execution_count": null,
   "id": "6dea6078-cbe3-4d06-825a-41578e9404fd",
   "metadata": {},
   "outputs": [],
   "source": []
  }
 ],
 "metadata": {
  "kernelspec": {
   "display_name": "Python 3 (ipykernel)",
   "language": "python",
   "name": "python3"
  },
  "language_info": {
   "codemirror_mode": {
    "name": "ipython",
    "version": 3
   },
   "file_extension": ".py",
   "mimetype": "text/x-python",
   "name": "python",
   "nbconvert_exporter": "python",
   "pygments_lexer": "ipython3",
   "version": "3.12.4"
  }
 },
 "nbformat": 4,
 "nbformat_minor": 5
}
