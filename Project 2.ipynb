{
 "cells": [
  {
   "cell_type": "markdown",
   "id": "a8b35706-dd9e-418a-b54c-08c16f498ad0",
   "metadata": {},
   "source": [
    "# __Project 2__"
   ]
  },
  {
   "cell_type": "markdown",
   "id": "3262f801",
   "metadata": {},
   "source": [
    "# Evaluating the relationship between attendance and SAT Average Math Score"
   ]
  },
  {
   "cell_type": "markdown",
   "id": "7ed20106-fb75-4bfd-abbd-093f9ebc3303",
   "metadata": {},
   "source": [
    "Using school attendance and SAT score datasets from schools in NYC to estimate the relationship between percentage attendance and SAT Average Math score"
   ]
  },
  {
   "cell_type": "code",
   "execution_count": 126,
   "id": "fea63304-deb5-424a-83d9-7b7562829e9e",
   "metadata": {},
   "outputs": [],
   "source": [
    "import pandas as pd\n",
    "import plotly.express as px"
   ]
  },
  {
   "cell_type": "code",
   "execution_count": 127,
   "id": "06994ee6-dd8b-4d95-a565-d8b2d032c819",
   "metadata": {},
   "outputs": [],
   "source": [
    "#Loading the school attendance dataset \n",
    "schattend = pd.read_csv('Daily Attendance by School 2012-15.csv')"
   ]
  },
  {
   "cell_type": "raw",
   "id": "24101b58-2ed1-4ea2-bf8d-df7012f095ff",
   "metadata": {},
   "source": [
    "The school attendance dataset includes historical daily attendance data of schools in NYC from 2012 to 2015. This includes the number of student enrolled, present and absent. Information from the dataset was used to estimate the percentage attendance on a given date as the proportion of total enrolled. "
   ]
  },
  {
   "cell_type": "code",
   "execution_count": 128,
   "id": "ceec4de0-1867-4dee-bd8e-80ebe8dcadfa",
   "metadata": {},
   "outputs": [
    {
     "data": {
      "text/html": [
       "<div>\n",
       "<style scoped>\n",
       "    .dataframe tbody tr th:only-of-type {\n",
       "        vertical-align: middle;\n",
       "    }\n",
       "\n",
       "    .dataframe tbody tr th {\n",
       "        vertical-align: top;\n",
       "    }\n",
       "\n",
       "    .dataframe thead th {\n",
       "        text-align: right;\n",
       "    }\n",
       "</style>\n",
       "<table border=\"1\" class=\"dataframe\">\n",
       "  <thead>\n",
       "    <tr style=\"text-align: right;\">\n",
       "      <th></th>\n",
       "      <th>School</th>\n",
       "      <th>Date</th>\n",
       "      <th>SchoolYear</th>\n",
       "      <th>Enrolled</th>\n",
       "      <th>Present</th>\n",
       "      <th>Absent</th>\n",
       "      <th>Released</th>\n",
       "      <th>Percentage_present</th>\n",
       "    </tr>\n",
       "  </thead>\n",
       "  <tbody>\n",
       "    <tr>\n",
       "      <th>0</th>\n",
       "      <td>01M015</td>\n",
       "      <td>20120906</td>\n",
       "      <td>20122013</td>\n",
       "      <td>165</td>\n",
       "      <td>140</td>\n",
       "      <td>25</td>\n",
       "      <td>0</td>\n",
       "      <td>84.848485</td>\n",
       "    </tr>\n",
       "    <tr>\n",
       "      <th>1</th>\n",
       "      <td>01M015</td>\n",
       "      <td>20120907</td>\n",
       "      <td>20122013</td>\n",
       "      <td>168</td>\n",
       "      <td>144</td>\n",
       "      <td>24</td>\n",
       "      <td>0</td>\n",
       "      <td>85.714286</td>\n",
       "    </tr>\n",
       "    <tr>\n",
       "      <th>2</th>\n",
       "      <td>01M015</td>\n",
       "      <td>20120910</td>\n",
       "      <td>20122013</td>\n",
       "      <td>167</td>\n",
       "      <td>154</td>\n",
       "      <td>13</td>\n",
       "      <td>0</td>\n",
       "      <td>92.215569</td>\n",
       "    </tr>\n",
       "    <tr>\n",
       "      <th>3</th>\n",
       "      <td>01M015</td>\n",
       "      <td>20120911</td>\n",
       "      <td>20122013</td>\n",
       "      <td>169</td>\n",
       "      <td>154</td>\n",
       "      <td>15</td>\n",
       "      <td>0</td>\n",
       "      <td>91.124260</td>\n",
       "    </tr>\n",
       "    <tr>\n",
       "      <th>4</th>\n",
       "      <td>01M015</td>\n",
       "      <td>20120912</td>\n",
       "      <td>20122013</td>\n",
       "      <td>170</td>\n",
       "      <td>159</td>\n",
       "      <td>11</td>\n",
       "      <td>0</td>\n",
       "      <td>93.529412</td>\n",
       "    </tr>\n",
       "    <tr>\n",
       "      <th>...</th>\n",
       "      <td>...</td>\n",
       "      <td>...</td>\n",
       "      <td>...</td>\n",
       "      <td>...</td>\n",
       "      <td>...</td>\n",
       "      <td>...</td>\n",
       "      <td>...</td>\n",
       "      <td>...</td>\n",
       "    </tr>\n",
       "    <tr>\n",
       "      <th>857615</th>\n",
       "      <td>79X695</td>\n",
       "      <td>20150622</td>\n",
       "      <td>20142015</td>\n",
       "      <td>356</td>\n",
       "      <td>54</td>\n",
       "      <td>48</td>\n",
       "      <td>254</td>\n",
       "      <td>15.168539</td>\n",
       "    </tr>\n",
       "    <tr>\n",
       "      <th>857616</th>\n",
       "      <td>79X695</td>\n",
       "      <td>20150623</td>\n",
       "      <td>20142015</td>\n",
       "      <td>353</td>\n",
       "      <td>102</td>\n",
       "      <td>75</td>\n",
       "      <td>176</td>\n",
       "      <td>28.895184</td>\n",
       "    </tr>\n",
       "    <tr>\n",
       "      <th>857617</th>\n",
       "      <td>79X695</td>\n",
       "      <td>20150624</td>\n",
       "      <td>20142015</td>\n",
       "      <td>351</td>\n",
       "      <td>82</td>\n",
       "      <td>81</td>\n",
       "      <td>188</td>\n",
       "      <td>23.361823</td>\n",
       "    </tr>\n",
       "    <tr>\n",
       "      <th>857618</th>\n",
       "      <td>79X695</td>\n",
       "      <td>20150625</td>\n",
       "      <td>20142015</td>\n",
       "      <td>351</td>\n",
       "      <td>77</td>\n",
       "      <td>76</td>\n",
       "      <td>198</td>\n",
       "      <td>21.937322</td>\n",
       "    </tr>\n",
       "    <tr>\n",
       "      <th>857619</th>\n",
       "      <td>79X695</td>\n",
       "      <td>20150626</td>\n",
       "      <td>20142015</td>\n",
       "      <td>316</td>\n",
       "      <td>73</td>\n",
       "      <td>49</td>\n",
       "      <td>194</td>\n",
       "      <td>23.101266</td>\n",
       "    </tr>\n",
       "  </tbody>\n",
       "</table>\n",
       "<p>857620 rows × 8 columns</p>\n",
       "</div>"
      ],
      "text/plain": [
       "        School      Date  SchoolYear  Enrolled  Present  Absent  Released  \\\n",
       "0       01M015  20120906    20122013       165      140      25         0   \n",
       "1       01M015  20120907    20122013       168      144      24         0   \n",
       "2       01M015  20120910    20122013       167      154      13         0   \n",
       "3       01M015  20120911    20122013       169      154      15         0   \n",
       "4       01M015  20120912    20122013       170      159      11         0   \n",
       "...        ...       ...         ...       ...      ...     ...       ...   \n",
       "857615  79X695  20150622    20142015       356       54      48       254   \n",
       "857616  79X695  20150623    20142015       353      102      75       176   \n",
       "857617  79X695  20150624    20142015       351       82      81       188   \n",
       "857618  79X695  20150625    20142015       351       77      76       198   \n",
       "857619  79X695  20150626    20142015       316       73      49       194   \n",
       "\n",
       "        Percentage_present  \n",
       "0                84.848485  \n",
       "1                85.714286  \n",
       "2                92.215569  \n",
       "3                91.124260  \n",
       "4                93.529412  \n",
       "...                    ...  \n",
       "857615           15.168539  \n",
       "857616           28.895184  \n",
       "857617           23.361823  \n",
       "857618           21.937322  \n",
       "857619           23.101266  \n",
       "\n",
       "[857620 rows x 8 columns]"
      ]
     },
     "execution_count": 128,
     "metadata": {},
     "output_type": "execute_result"
    }
   ],
   "source": [
    "#calculation for percentage students present on average \n",
    "schattend['Percentage_present'] = (schattend['Present'] / schattend['Enrolled']) * 100\n",
    "schattend"
   ]
  },
  {
   "cell_type": "markdown",
   "id": "888da169-42fd-4fb6-9969-180443293b02",
   "metadata": {},
   "source": [
    "The student attendance data set consisted of daily attendance data from 2012 to 2015. Out of this, only data from 2012 is relevant for the currrent analysis. The data set is filtered for data from 2012 and subsequently annual averages of the attendance are estimated. "
   ]
  },
  {
   "cell_type": "code",
   "execution_count": 129,
   "id": "c8c463fc-14d4-48d2-86e1-2921a34fabdf",
   "metadata": {},
   "outputs": [],
   "source": [
    "# filtering data from 2012\n",
    "schattend  = schattend [schattend ['SchoolYear'] == 20122013]"
   ]
  },
  {
   "cell_type": "code",
   "execution_count": 130,
   "id": "b55e4111-6755-4e6e-b7e7-3af83dc17de6",
   "metadata": {},
   "outputs": [],
   "source": [
    "schattend = schattend.rename(columns={'School': 'DBN'})"
   ]
  },
  {
   "cell_type": "code",
   "execution_count": 131,
   "id": "81879d7b-f256-43ca-b69c-4a7cb1f28831",
   "metadata": {},
   "outputs": [],
   "source": [
    "#grouping data by school ID and averaging on present, absent and percentage variables \n",
    "schattend_annual = schattend.groupby('DBN')[['Present', 'Absent','Percentage_present']].mean().reset_index()"
   ]
  },
  {
   "cell_type": "code",
   "execution_count": 132,
   "id": "007cfaeb-d853-4cb7-a57e-b0aaa7941baf",
   "metadata": {},
   "outputs": [
    {
     "data": {
      "text/html": [
       "<div>\n",
       "<style scoped>\n",
       "    .dataframe tbody tr th:only-of-type {\n",
       "        vertical-align: middle;\n",
       "    }\n",
       "\n",
       "    .dataframe tbody tr th {\n",
       "        vertical-align: top;\n",
       "    }\n",
       "\n",
       "    .dataframe thead th {\n",
       "        text-align: right;\n",
       "    }\n",
       "</style>\n",
       "<table border=\"1\" class=\"dataframe\">\n",
       "  <thead>\n",
       "    <tr style=\"text-align: right;\">\n",
       "      <th></th>\n",
       "      <th>DBN</th>\n",
       "      <th>Present</th>\n",
       "      <th>Absent</th>\n",
       "      <th>Percentage_present</th>\n",
       "    </tr>\n",
       "  </thead>\n",
       "  <tbody>\n",
       "    <tr>\n",
       "      <th>0</th>\n",
       "      <td>01M015</td>\n",
       "      <td>168.730337</td>\n",
       "      <td>15.522472</td>\n",
       "      <td>91.412635</td>\n",
       "    </tr>\n",
       "    <tr>\n",
       "      <th>1</th>\n",
       "      <td>01M019</td>\n",
       "      <td>277.286517</td>\n",
       "      <td>22.089888</td>\n",
       "      <td>92.377158</td>\n",
       "    </tr>\n",
       "    <tr>\n",
       "      <th>2</th>\n",
       "      <td>01M020</td>\n",
       "      <td>582.455056</td>\n",
       "      <td>41.033708</td>\n",
       "      <td>93.240950</td>\n",
       "    </tr>\n",
       "    <tr>\n",
       "      <th>3</th>\n",
       "      <td>01M034</td>\n",
       "      <td>369.533708</td>\n",
       "      <td>36.966292</td>\n",
       "      <td>90.808641</td>\n",
       "    </tr>\n",
       "    <tr>\n",
       "      <th>4</th>\n",
       "      <td>01M063</td>\n",
       "      <td>158.320225</td>\n",
       "      <td>13.353933</td>\n",
       "      <td>92.052747</td>\n",
       "    </tr>\n",
       "    <tr>\n",
       "      <th>...</th>\n",
       "      <td>...</td>\n",
       "      <td>...</td>\n",
       "      <td>...</td>\n",
       "      <td>...</td>\n",
       "    </tr>\n",
       "    <tr>\n",
       "      <th>1598</th>\n",
       "      <td>75X721</td>\n",
       "      <td>409.252809</td>\n",
       "      <td>91.078652</td>\n",
       "      <td>81.617805</td>\n",
       "    </tr>\n",
       "    <tr>\n",
       "      <th>1599</th>\n",
       "      <td>75X754</td>\n",
       "      <td>365.275281</td>\n",
       "      <td>211.039326</td>\n",
       "      <td>61.985863</td>\n",
       "    </tr>\n",
       "    <tr>\n",
       "      <th>1600</th>\n",
       "      <td>75X811</td>\n",
       "      <td>490.516854</td>\n",
       "      <td>117.808989</td>\n",
       "      <td>80.378540</td>\n",
       "    </tr>\n",
       "    <tr>\n",
       "      <th>1601</th>\n",
       "      <td>79Q344</td>\n",
       "      <td>605.505682</td>\n",
       "      <td>265.125000</td>\n",
       "      <td>66.244057</td>\n",
       "    </tr>\n",
       "    <tr>\n",
       "      <th>1602</th>\n",
       "      <td>79X695</td>\n",
       "      <td>311.787356</td>\n",
       "      <td>87.534483</td>\n",
       "      <td>75.723207</td>\n",
       "    </tr>\n",
       "  </tbody>\n",
       "</table>\n",
       "<p>1603 rows × 4 columns</p>\n",
       "</div>"
      ],
      "text/plain": [
       "         DBN     Present      Absent  Percentage_present\n",
       "0     01M015  168.730337   15.522472           91.412635\n",
       "1     01M019  277.286517   22.089888           92.377158\n",
       "2     01M020  582.455056   41.033708           93.240950\n",
       "3     01M034  369.533708   36.966292           90.808641\n",
       "4     01M063  158.320225   13.353933           92.052747\n",
       "...      ...         ...         ...                 ...\n",
       "1598  75X721  409.252809   91.078652           81.617805\n",
       "1599  75X754  365.275281  211.039326           61.985863\n",
       "1600  75X811  490.516854  117.808989           80.378540\n",
       "1601  79Q344  605.505682  265.125000           66.244057\n",
       "1602  79X695  311.787356   87.534483           75.723207\n",
       "\n",
       "[1603 rows x 4 columns]"
      ]
     },
     "execution_count": 132,
     "metadata": {},
     "output_type": "execute_result"
    }
   ],
   "source": [
    "schattend_annual "
   ]
  },
  {
   "cell_type": "markdown",
   "id": "b9dd1f3a-045f-448b-a096-a229b4471a54",
   "metadata": {},
   "source": [
    "Once the school attendance dataset is clean and organised, we then load the SAT dataset and process it. "
   ]
  },
  {
   "cell_type": "code",
   "execution_count": 133,
   "id": "0f1a7203-ce5f-45c6-8888-4f065798416d",
   "metadata": {},
   "outputs": [],
   "source": [
    "#loading SAT dataset \n",
    "schsat = pd.read_csv('2012_SAT_Results_20241126.csv')"
   ]
  },
  {
   "cell_type": "code",
   "execution_count": 134,
   "id": "3de3f46b-6372-4407-8146-fe237cba7ee5",
   "metadata": {},
   "outputs": [
    {
     "data": {
      "text/html": [
       "<div>\n",
       "<style scoped>\n",
       "    .dataframe tbody tr th:only-of-type {\n",
       "        vertical-align: middle;\n",
       "    }\n",
       "\n",
       "    .dataframe tbody tr th {\n",
       "        vertical-align: top;\n",
       "    }\n",
       "\n",
       "    .dataframe thead th {\n",
       "        text-align: right;\n",
       "    }\n",
       "</style>\n",
       "<table border=\"1\" class=\"dataframe\">\n",
       "  <thead>\n",
       "    <tr style=\"text-align: right;\">\n",
       "      <th></th>\n",
       "      <th>DBN</th>\n",
       "      <th>SCHOOL NAME</th>\n",
       "      <th>Num of SAT Test Takers</th>\n",
       "      <th>SAT Critical Reading Avg. Score</th>\n",
       "      <th>SAT Math Avg. Score</th>\n",
       "      <th>SAT Writing Avg. Score</th>\n",
       "    </tr>\n",
       "  </thead>\n",
       "  <tbody>\n",
       "    <tr>\n",
       "      <th>0</th>\n",
       "      <td>01M292</td>\n",
       "      <td>HENRY STREET SCHOOL FOR INTERNATIONAL STUDIES</td>\n",
       "      <td>29</td>\n",
       "      <td>355</td>\n",
       "      <td>404</td>\n",
       "      <td>363</td>\n",
       "    </tr>\n",
       "    <tr>\n",
       "      <th>1</th>\n",
       "      <td>01M448</td>\n",
       "      <td>UNIVERSITY NEIGHBORHOOD HIGH SCHOOL</td>\n",
       "      <td>91</td>\n",
       "      <td>383</td>\n",
       "      <td>423</td>\n",
       "      <td>366</td>\n",
       "    </tr>\n",
       "    <tr>\n",
       "      <th>2</th>\n",
       "      <td>01M450</td>\n",
       "      <td>EAST SIDE COMMUNITY SCHOOL</td>\n",
       "      <td>70</td>\n",
       "      <td>377</td>\n",
       "      <td>402</td>\n",
       "      <td>370</td>\n",
       "    </tr>\n",
       "    <tr>\n",
       "      <th>3</th>\n",
       "      <td>01M458</td>\n",
       "      <td>FORSYTH SATELLITE ACADEMY</td>\n",
       "      <td>7</td>\n",
       "      <td>414</td>\n",
       "      <td>401</td>\n",
       "      <td>359</td>\n",
       "    </tr>\n",
       "    <tr>\n",
       "      <th>4</th>\n",
       "      <td>01M509</td>\n",
       "      <td>MARTA VALLE HIGH SCHOOL</td>\n",
       "      <td>44</td>\n",
       "      <td>390</td>\n",
       "      <td>433</td>\n",
       "      <td>384</td>\n",
       "    </tr>\n",
       "    <tr>\n",
       "      <th>...</th>\n",
       "      <td>...</td>\n",
       "      <td>...</td>\n",
       "      <td>...</td>\n",
       "      <td>...</td>\n",
       "      <td>...</td>\n",
       "      <td>...</td>\n",
       "    </tr>\n",
       "    <tr>\n",
       "      <th>473</th>\n",
       "      <td>75X012</td>\n",
       "      <td>P.S. X012 LEWIS AND CLARK SCHOOL</td>\n",
       "      <td>s</td>\n",
       "      <td>s</td>\n",
       "      <td>s</td>\n",
       "      <td>s</td>\n",
       "    </tr>\n",
       "    <tr>\n",
       "      <th>474</th>\n",
       "      <td>75X754</td>\n",
       "      <td>J. M. RAPPORT SCHOOL CAREER DEVELOPMENT</td>\n",
       "      <td>s</td>\n",
       "      <td>s</td>\n",
       "      <td>s</td>\n",
       "      <td>s</td>\n",
       "    </tr>\n",
       "    <tr>\n",
       "      <th>475</th>\n",
       "      <td>79M645</td>\n",
       "      <td>SCHOOL FOR COOPERATIVE TECHNICAL EDUCATION</td>\n",
       "      <td>s</td>\n",
       "      <td>s</td>\n",
       "      <td>s</td>\n",
       "      <td>s</td>\n",
       "    </tr>\n",
       "    <tr>\n",
       "      <th>476</th>\n",
       "      <td>79Q950</td>\n",
       "      <td>GED PLUS s CITYWIDE</td>\n",
       "      <td>8</td>\n",
       "      <td>496</td>\n",
       "      <td>400</td>\n",
       "      <td>426</td>\n",
       "    </tr>\n",
       "    <tr>\n",
       "      <th>477</th>\n",
       "      <td>79X490</td>\n",
       "      <td>PHOENIX ACADEMY</td>\n",
       "      <td>9</td>\n",
       "      <td>367</td>\n",
       "      <td>370</td>\n",
       "      <td>360</td>\n",
       "    </tr>\n",
       "  </tbody>\n",
       "</table>\n",
       "<p>478 rows × 6 columns</p>\n",
       "</div>"
      ],
      "text/plain": [
       "        DBN                                    SCHOOL NAME  \\\n",
       "0    01M292  HENRY STREET SCHOOL FOR INTERNATIONAL STUDIES   \n",
       "1    01M448            UNIVERSITY NEIGHBORHOOD HIGH SCHOOL   \n",
       "2    01M450                     EAST SIDE COMMUNITY SCHOOL   \n",
       "3    01M458                      FORSYTH SATELLITE ACADEMY   \n",
       "4    01M509                        MARTA VALLE HIGH SCHOOL   \n",
       "..      ...                                            ...   \n",
       "473  75X012               P.S. X012 LEWIS AND CLARK SCHOOL   \n",
       "474  75X754        J. M. RAPPORT SCHOOL CAREER DEVELOPMENT   \n",
       "475  79M645     SCHOOL FOR COOPERATIVE TECHNICAL EDUCATION   \n",
       "476  79Q950                            GED PLUS s CITYWIDE   \n",
       "477  79X490                                PHOENIX ACADEMY   \n",
       "\n",
       "    Num of SAT Test Takers SAT Critical Reading Avg. Score  \\\n",
       "0                       29                             355   \n",
       "1                       91                             383   \n",
       "2                       70                             377   \n",
       "3                        7                             414   \n",
       "4                       44                             390   \n",
       "..                     ...                             ...   \n",
       "473                      s                               s   \n",
       "474                      s                               s   \n",
       "475                      s                               s   \n",
       "476                      8                             496   \n",
       "477                      9                             367   \n",
       "\n",
       "    SAT Math Avg. Score SAT Writing Avg. Score  \n",
       "0                   404                    363  \n",
       "1                   423                    366  \n",
       "2                   402                    370  \n",
       "3                   401                    359  \n",
       "4                   433                    384  \n",
       "..                  ...                    ...  \n",
       "473                   s                      s  \n",
       "474                   s                      s  \n",
       "475                   s                      s  \n",
       "476                 400                    426  \n",
       "477                 370                    360  \n",
       "\n",
       "[478 rows x 6 columns]"
      ]
     },
     "execution_count": 134,
     "metadata": {},
     "output_type": "execute_result"
    }
   ],
   "source": [
    "schsat"
   ]
  },
  {
   "cell_type": "markdown",
   "id": "9ffb6e11-0d7a-4885-ad0f-ef9ace515b6d",
   "metadata": {},
   "source": [
    "The SAT dataset is loaded and subsequently combined with the attendance dataset to estimate the relationship between the SAT Math Average Score and the attendance in school. Before the relationship can be estimated non numeric values need to be removed. "
   ]
  },
  {
   "cell_type": "code",
   "execution_count": 135,
   "id": "a039b7b2-4179-4cb7-bdab-10cfc34832c2",
   "metadata": {},
   "outputs": [],
   "source": [
    "## Merging the attendance and SAT datasets \n",
    "merged_schdata = pd.merge(schsat, schattend_annual , on='DBN', how='inner')\n",
    "\n",
    "#Converting math score to numeric values \n",
    "merged_schdata['SAT Math Avg. Score'] = pd.to_numeric(merged_schdata['SAT Math Avg. Score'], errors='coerce')"
   ]
  },
  {
   "cell_type": "code",
   "execution_count": 136,
   "id": "d1d72eb5-e081-4cd5-8ae4-bc2c051f9923",
   "metadata": {},
   "outputs": [],
   "source": [
    "#dropping null/non numeric values \n",
    "merged_schdata = merged_schdata.dropna(subset=['SAT Math Avg. Score'])"
   ]
  },
  {
   "cell_type": "code",
   "execution_count": 137,
   "id": "ee497c04-3864-4b7e-9214-4fa510a62c52",
   "metadata": {},
   "outputs": [
    {
     "data": {
      "text/html": [
       "<div>\n",
       "<style scoped>\n",
       "    .dataframe tbody tr th:only-of-type {\n",
       "        vertical-align: middle;\n",
       "    }\n",
       "\n",
       "    .dataframe tbody tr th {\n",
       "        vertical-align: top;\n",
       "    }\n",
       "\n",
       "    .dataframe thead th {\n",
       "        text-align: right;\n",
       "    }\n",
       "</style>\n",
       "<table border=\"1\" class=\"dataframe\">\n",
       "  <thead>\n",
       "    <tr style=\"text-align: right;\">\n",
       "      <th></th>\n",
       "      <th>DBN</th>\n",
       "      <th>SCHOOL NAME</th>\n",
       "      <th>Num of SAT Test Takers</th>\n",
       "      <th>SAT Critical Reading Avg. Score</th>\n",
       "      <th>SAT Math Avg. Score</th>\n",
       "      <th>SAT Writing Avg. Score</th>\n",
       "      <th>Present</th>\n",
       "      <th>Absent</th>\n",
       "      <th>Percentage_present</th>\n",
       "    </tr>\n",
       "  </thead>\n",
       "  <tbody>\n",
       "    <tr>\n",
       "      <th>0</th>\n",
       "      <td>01M292</td>\n",
       "      <td>HENRY STREET SCHOOL FOR INTERNATIONAL STUDIES</td>\n",
       "      <td>29</td>\n",
       "      <td>355</td>\n",
       "      <td>404.0</td>\n",
       "      <td>363</td>\n",
       "      <td>292.457627</td>\n",
       "      <td>68.096045</td>\n",
       "      <td>76.558676</td>\n",
       "    </tr>\n",
       "    <tr>\n",
       "      <th>1</th>\n",
       "      <td>01M448</td>\n",
       "      <td>UNIVERSITY NEIGHBORHOOD HIGH SCHOOL</td>\n",
       "      <td>91</td>\n",
       "      <td>383</td>\n",
       "      <td>423.0</td>\n",
       "      <td>366</td>\n",
       "      <td>271.601227</td>\n",
       "      <td>50.398773</td>\n",
       "      <td>84.335155</td>\n",
       "    </tr>\n",
       "    <tr>\n",
       "      <th>2</th>\n",
       "      <td>01M450</td>\n",
       "      <td>EAST SIDE COMMUNITY SCHOOL</td>\n",
       "      <td>70</td>\n",
       "      <td>377</td>\n",
       "      <td>402.0</td>\n",
       "      <td>370</td>\n",
       "      <td>541.179775</td>\n",
       "      <td>41.820225</td>\n",
       "      <td>87.846384</td>\n",
       "    </tr>\n",
       "    <tr>\n",
       "      <th>3</th>\n",
       "      <td>01M458</td>\n",
       "      <td>FORSYTH SATELLITE ACADEMY</td>\n",
       "      <td>7</td>\n",
       "      <td>414</td>\n",
       "      <td>401.0</td>\n",
       "      <td>359</td>\n",
       "      <td>126.725610</td>\n",
       "      <td>70.957317</td>\n",
       "      <td>63.761075</td>\n",
       "    </tr>\n",
       "    <tr>\n",
       "      <th>4</th>\n",
       "      <td>01M509</td>\n",
       "      <td>MARTA VALLE HIGH SCHOOL</td>\n",
       "      <td>44</td>\n",
       "      <td>390</td>\n",
       "      <td>433.0</td>\n",
       "      <td>384</td>\n",
       "      <td>286.048780</td>\n",
       "      <td>72.213415</td>\n",
       "      <td>79.765699</td>\n",
       "    </tr>\n",
       "    <tr>\n",
       "      <th>...</th>\n",
       "      <td>...</td>\n",
       "      <td>...</td>\n",
       "      <td>...</td>\n",
       "      <td>...</td>\n",
       "      <td>...</td>\n",
       "      <td>...</td>\n",
       "      <td>...</td>\n",
       "      <td>...</td>\n",
       "      <td>...</td>\n",
       "    </tr>\n",
       "    <tr>\n",
       "      <th>450</th>\n",
       "      <td>32K552</td>\n",
       "      <td>ACADEMY OF URBAN PLANNING</td>\n",
       "      <td>67</td>\n",
       "      <td>342</td>\n",
       "      <td>364.0</td>\n",
       "      <td>354</td>\n",
       "      <td>262.554878</td>\n",
       "      <td>93.164634</td>\n",
       "      <td>73.800966</td>\n",
       "    </tr>\n",
       "    <tr>\n",
       "      <th>451</th>\n",
       "      <td>32K554</td>\n",
       "      <td>ALL CITY LEADERSHIP SECONDARY SCHOOL</td>\n",
       "      <td>39</td>\n",
       "      <td>428</td>\n",
       "      <td>465.0</td>\n",
       "      <td>422</td>\n",
       "      <td>273.050562</td>\n",
       "      <td>12.865169</td>\n",
       "      <td>92.207410</td>\n",
       "    </tr>\n",
       "    <tr>\n",
       "      <th>452</th>\n",
       "      <td>32K556</td>\n",
       "      <td>BUSHWICK LEADERS HIGH SCHOOL FOR ACADEMIC EXCE...</td>\n",
       "      <td>23</td>\n",
       "      <td>347</td>\n",
       "      <td>358.0</td>\n",
       "      <td>350</td>\n",
       "      <td>338.396341</td>\n",
       "      <td>72.695122</td>\n",
       "      <td>82.263334</td>\n",
       "    </tr>\n",
       "    <tr>\n",
       "      <th>453</th>\n",
       "      <td>32K564</td>\n",
       "      <td>BUSHWICK COMMUNITY HIGH SCHOOL</td>\n",
       "      <td>24</td>\n",
       "      <td>359</td>\n",
       "      <td>317.0</td>\n",
       "      <td>358</td>\n",
       "      <td>173.085366</td>\n",
       "      <td>113.060976</td>\n",
       "      <td>60.094698</td>\n",
       "    </tr>\n",
       "    <tr>\n",
       "      <th>455</th>\n",
       "      <td>75Q811</td>\n",
       "      <td>P.S. Q811</td>\n",
       "      <td>32</td>\n",
       "      <td>429</td>\n",
       "      <td>444.0</td>\n",
       "      <td>433</td>\n",
       "      <td>305.123596</td>\n",
       "      <td>38.353933</td>\n",
       "      <td>88.339360</td>\n",
       "    </tr>\n",
       "  </tbody>\n",
       "</table>\n",
       "<p>410 rows × 9 columns</p>\n",
       "</div>"
      ],
      "text/plain": [
       "        DBN                                        SCHOOL NAME  \\\n",
       "0    01M292      HENRY STREET SCHOOL FOR INTERNATIONAL STUDIES   \n",
       "1    01M448                UNIVERSITY NEIGHBORHOOD HIGH SCHOOL   \n",
       "2    01M450                         EAST SIDE COMMUNITY SCHOOL   \n",
       "3    01M458                          FORSYTH SATELLITE ACADEMY   \n",
       "4    01M509                            MARTA VALLE HIGH SCHOOL   \n",
       "..      ...                                                ...   \n",
       "450  32K552                          ACADEMY OF URBAN PLANNING   \n",
       "451  32K554               ALL CITY LEADERSHIP SECONDARY SCHOOL   \n",
       "452  32K556  BUSHWICK LEADERS HIGH SCHOOL FOR ACADEMIC EXCE...   \n",
       "453  32K564                     BUSHWICK COMMUNITY HIGH SCHOOL   \n",
       "455  75Q811                                          P.S. Q811   \n",
       "\n",
       "    Num of SAT Test Takers SAT Critical Reading Avg. Score  \\\n",
       "0                       29                             355   \n",
       "1                       91                             383   \n",
       "2                       70                             377   \n",
       "3                        7                             414   \n",
       "4                       44                             390   \n",
       "..                     ...                             ...   \n",
       "450                     67                             342   \n",
       "451                     39                             428   \n",
       "452                     23                             347   \n",
       "453                     24                             359   \n",
       "455                     32                             429   \n",
       "\n",
       "     SAT Math Avg. Score SAT Writing Avg. Score     Present      Absent  \\\n",
       "0                  404.0                    363  292.457627   68.096045   \n",
       "1                  423.0                    366  271.601227   50.398773   \n",
       "2                  402.0                    370  541.179775   41.820225   \n",
       "3                  401.0                    359  126.725610   70.957317   \n",
       "4                  433.0                    384  286.048780   72.213415   \n",
       "..                   ...                    ...         ...         ...   \n",
       "450                364.0                    354  262.554878   93.164634   \n",
       "451                465.0                    422  273.050562   12.865169   \n",
       "452                358.0                    350  338.396341   72.695122   \n",
       "453                317.0                    358  173.085366  113.060976   \n",
       "455                444.0                    433  305.123596   38.353933   \n",
       "\n",
       "     Percentage_present  \n",
       "0             76.558676  \n",
       "1             84.335155  \n",
       "2             87.846384  \n",
       "3             63.761075  \n",
       "4             79.765699  \n",
       "..                  ...  \n",
       "450           73.800966  \n",
       "451           92.207410  \n",
       "452           82.263334  \n",
       "453           60.094698  \n",
       "455           88.339360  \n",
       "\n",
       "[410 rows x 9 columns]"
      ]
     },
     "execution_count": 137,
     "metadata": {},
     "output_type": "execute_result"
    }
   ],
   "source": [
    "merged_schdata"
   ]
  },
  {
   "cell_type": "code",
   "execution_count": 138,
   "id": "b1e67e29-c415-45a8-bdaa-ffa343d42ae7",
   "metadata": {},
   "outputs": [],
   "source": [
    "#sorting the data in ascending order \n",
    "merged_schdata = merged_schdata.sort_values(by='SAT Math Avg. Score')"
   ]
  },
  {
   "cell_type": "markdown",
   "id": "014e1618-fab0-4382-87e8-4573e8b3d26e",
   "metadata": {},
   "source": [
    "The merged datasets are then plotted as a scatter plot to evaluate the relationship. The scatter plot can be used to observe correlations and not causation amongst variables. "
   ]
  },
  {
   "cell_type": "code",
   "execution_count": 139,
   "id": "fe843a65-9114-4dba-b6b4-d31248f62c30",
   "metadata": {},
   "outputs": [
    {
     "data": {
      "application/vnd.plotly.v1+json": {
       "config": {
        "plotlyServerURL": "https://plot.ly"
       },
       "data": [
        {
         "hovertemplate": "Percentage_present=%{x}<br>SAT Math Average Score=%{y}<extra></extra>",
         "legendgroup": "",
         "marker": {
          "color": "#636efa",
          "symbol": "circle"
         },
         "mode": "markers",
         "name": "",
         "orientation": "v",
         "showlegend": false,
         "type": "scatter",
         "x": [
          83.24087694054008,
          77.97373453600797,
          60.09469823572446,
          68.02238414417573,
          89.6308192743532,
          75.38669255915192,
          85.52025954489574,
          87.97522256028134,
          82.90470887909638,
          83.89230855647887,
          83.44458442268237,
          88.2021999656028,
          78.7879227912183,
          61.43105299305135,
          90.98901668092013,
          81.75088761763087,
          65.18080556624963,
          81.19404419849668,
          80.64626034726578,
          76.757195172102,
          82.64941089526077,
          80.28260515319514,
          89.46487725282216,
          85.73528055750418,
          91.71715188227049,
          82.5653631659038,
          85.14990614696512,
          81.95978074140835,
          80.26028743384457,
          76.3840595326944,
          70.69805819392653,
          82.3196210423925,
          78.42905992064243,
          84.9430691446193,
          87.95523752571687,
          82.85025753522089,
          45.81485303544841,
          76.45983852199899,
          72.24582251431704,
          87.82226866556907,
          73.94429248457308,
          76.32747346499491,
          56.17829258563188,
          70.95978993805375,
          81.42608577730869,
          82.26333438503676,
          85.80417429207516,
          81.07597548381676,
          73.23582673015973,
          76.23382053243171,
          79.6116733659986,
          84.0411030798823,
          74.8422687251132,
          83.04153193442085,
          78.25906215474598,
          78.86561311451952,
          85.00111517698579,
          76.6620513836716,
          68.4189443334462,
          79.94765510495981,
          70.12162631190274,
          63.27348859353953,
          84.73022212986803,
          93.53218869741909,
          77.01428114194924,
          79.6340670721701,
          81.38445781587211,
          73.80096629624053,
          88.67466178266994,
          79.83063170039478,
          65.19611947707321,
          77.73498279143766,
          79.47404332861859,
          70.83341235763714,
          86.29592258011697,
          82.50923709342898,
          89.00130648471338,
          86.90422279428441,
          82.42323165951427,
          77.4838619163718,
          75.44395747625279,
          81.33459444838017,
          57.681597384343554,
          78.37316979479218,
          61.76240294523353,
          64.16799966288377,
          77.55806017346495,
          86.11071342330767,
          60.648983905183655,
          85.2818569550196,
          83.88642080084364,
          76.41299286108438,
          65.25891616345002,
          81.10158941115657,
          82.52870831402726,
          84.30395111065903,
          80.77098845832569,
          63.94188693440316,
          73.1952874377319,
          81.41703632317368,
          89.91904421404715,
          89.86074006876771,
          62.1961563675373,
          84.65060099199827,
          45.9563724685615,
          51.598915744833704,
          84.78611186439022,
          82.45614355171764,
          83.14688866350801,
          84.28225352813067,
          83.05964113749509,
          83.60645297345285,
          86.12187948233748,
          47.800650153071636,
          82.69775057570754,
          76.65828656035843,
          76.7264132120336,
          89.52297432802584,
          82.09017540226802,
          82.18988817064398,
          81.03782573028808,
          82.72924527464399,
          88.97949543759916,
          85.48410295014693,
          85.74058228461925,
          83.93194790929478,
          80.32856933091256,
          84.02857868088014,
          91.33161770135229,
          86.97133674525764,
          75.93192151600641,
          82.56298052684599,
          86.43121013337264,
          82.35458272989491,
          74.52742733386566,
          87.98920117937449,
          81.15447800816146,
          92.82082052459795,
          79.51599536331217,
          86.41545699157952,
          89.46155866924137,
          72.90535499992642,
          85.05001776265351,
          89.43540403091231,
          86.58002785608856,
          93.99508434919667,
          82.16915985733282,
          91.5246210840031,
          72.56017210096472,
          66.83384775334126,
          70.00302651848683,
          74.640517257734,
          90.27328785363832,
          75.79677040843868,
          86.33449902155567,
          86.47657508303752,
          87.30979849243687,
          76.18034107863603,
          81.11937253136492,
          76.80124890855309,
          81.52637381741286,
          72.14293434669119,
          87.43955037272912,
          90.07135891838767,
          81.45142946969355,
          83.78070752556775,
          66.92995180742862,
          84.10961623365762,
          74.8169239970025,
          73.23894732775105,
          79.70931347875697,
          81.41263076857958,
          87.65563310745377,
          76.40448159377513,
          83.86530323227677,
          71.77270698517675,
          86.28468201690639,
          71.17937162777507,
          84.12249324673563,
          75.818308963195,
          79.6728535330935,
          61.9437995246551,
          84.18574719037709,
          85.6924962468486,
          86.13148547104136,
          84.29983312009549,
          79.18244981103288,
          85.76618002993227,
          75.97821871598597,
          86.41855873921861,
          86.72143175520822,
          82.58811608808479,
          92.01302333318009,
          82.26898987076888,
          87.88408059630099,
          82.21691315991546,
          90.81704365671898,
          89.16491451348905,
          86.64502206018598,
          86.16850817258053,
          84.2890855716558,
          82.6377747886638,
          81.41869846601047,
          87.34999742577833,
          77.43424735470639,
          58.137044201616845,
          78.53092620292013,
          86.3581725604867,
          81.44354073902656,
          87.90988776504712,
          86.84838291897252,
          84.74223316309329,
          81.76690930456087,
          87.68152164836559,
          86.23518469956484,
          80.58918495839785,
          78.75065303524597,
          84.09655896784832,
          87.54480432724817,
          81.57695556216939,
          73.49823577969342,
          63.761074977973415,
          82.46028941013176,
          86.86736710331934,
          84.31681280470539,
          87.53480704678046,
          87.84638371028495,
          86.34273679214004,
          66.5789255657657,
          85.68227029988178,
          90.58590851019412,
          61.31758267342071,
          78.3408601218962,
          79.5826328106633,
          76.55867643360496,
          93.79935943747061,
          88.85586925836498,
          83.92924829668647,
          67.25247997886818,
          87.2544176318734,
          79.67415457112936,
          93.32380579241214,
          79.41331442328374,
          86.46602828424413,
          89.52927451214526,
          80.862071470507,
          79.50739600668913,
          89.18852290536921,
          81.2953912908543,
          87.54361711403203,
          90.54086548875758,
          86.92403613840659,
          82.93120513099727,
          79.34307994619446,
          82.97918597511567,
          84.5302202758099,
          80.73387078227073,
          64.9802315320504,
          81.0446849633519,
          65.8369029067267,
          79.27926299298943,
          90.27335005551514,
          93.77225748923557,
          80.36650866660624,
          87.90248396195307,
          87.01798909654846,
          87.09828577898536,
          72.28015864105997,
          87.72901104945608,
          87.6975608577338,
          84.36140802771085,
          79.38282691452142,
          79.33537950955434,
          88.96784978209702,
          63.155846194869405,
          93.9461753802709,
          88.90961349812028,
          90.44481485922044,
          85.07807871630568,
          79.41053429637628,
          84.33515489005364,
          88.35525057963548,
          91.73422899067462,
          77.77808495994579,
          78.22216556080865,
          79.31766045836218,
          83.5523759101137,
          79.79442881684321,
          86.47768499957513,
          91.28522887409082,
          90.63311710030845,
          83.28324095438597,
          88.70653456593769,
          89.06921346135655,
          85.88739404032161,
          79.7656985178184,
          81.84333441288544,
          87.25444338567007,
          91.03674332562285,
          91.0794495484795,
          93.28857982146138,
          88.5407273903968,
          77.30468008846746,
          87.40663627006337,
          86.77369943367415,
          87.04763428708381,
          92.48380682524379,
          90.5410173310159,
          83.7819216851852,
          62.630039753303464,
          93.2237268079535,
          77.46304334968148,
          85.51656704346098,
          82.5472537534845,
          92.59200191682473,
          89.52316872109755,
          92.57117565849904,
          88.33935985051876,
          85.44014263300333,
          88.64909627165633,
          91.02482512184851,
          90.5138848319244,
          89.48453040138246,
          83.72360344772589,
          83.29634619981421,
          91.65605302922816,
          89.17745211922804,
          85.47116109600077,
          93.42788309771419,
          83.00240272140442,
          92.48462370330515,
          93.37672291903706,
          87.82199912077913,
          72.52855770853321,
          88.6624648124763,
          93.68651257498732,
          89.61945256276395,
          92.5292391158302,
          91.73948678998606,
          91.2532863585592,
          86.17236275797006,
          90.11837337461738,
          92.20741023730542,
          87.01158934699015,
          88.58047212585856,
          81.31166799451746,
          90.3991166396118,
          93.41587870572975,
          97.50557759889962,
          91.4720089899319,
          83.75861616181149,
          89.95981143612467,
          91.98605039049413,
          90.52206439563362,
          44.84090919367999,
          92.18242420561302,
          90.11004687755812,
          91.69538420648622,
          88.24955648925287,
          92.61875054053318,
          89.73961403831893,
          84.98025386534303,
          90.10542773313689,
          87.52137957834236,
          88.54785465183946,
          86.82712222956651,
          92.85714302178403,
          93.24104385295647,
          94.16002616823029,
          89.79063646892031,
          95.59856726199912,
          90.89473582174077,
          91.37296033183289,
          89.78354372998123,
          90.88012813456601,
          85.9486421529253,
          96.47566231062692,
          98.67022135154,
          92.93089855786563,
          92.76524686120831,
          63.89332173253331,
          92.65873716394017,
          91.56801949764396,
          90.76950696864368,
          95.12806654633516,
          91.7710739191087,
          91.82057384528154,
          91.00527770512123,
          95.92330319921813,
          88.34510862695154,
          94.72152243305054,
          97.51644832308983,
          95.08424310065729,
          93.84041716267276,
          96.60393872168466,
          93.03726695111533,
          95.654405432099,
          98.00947805934597,
          94.78305580895058,
          93.48439260768568,
          96.0008946890645,
          94.61306551179744,
          96.74083680646933,
          97.62159705130365,
          94.11292490291764,
          95.92439085293172,
          96.81748243552939,
          96.0808238160937,
          97.27794074646563,
          96.46563708476421
         ],
         "xaxis": "x",
         "y": [
          312,
          315,
          317,
          318,
          320,
          322,
          323,
          323,
          324,
          333,
          335,
          335,
          337,
          338,
          339,
          342,
          346,
          346,
          349,
          349,
          349,
          349,
          349,
          349,
          350,
          351,
          351,
          353,
          353,
          353,
          353,
          355,
          355,
          355,
          356,
          356,
          356,
          356,
          356,
          357,
          357,
          357,
          357,
          357,
          358,
          358,
          358,
          359,
          359,
          360,
          360,
          360,
          361,
          361,
          361,
          361,
          362,
          362,
          362,
          363,
          363,
          364,
          364,
          364,
          364,
          364,
          364,
          364,
          365,
          365,
          365,
          365,
          366,
          366,
          367,
          367,
          367,
          367,
          368,
          368,
          368,
          369,
          369,
          369,
          369,
          369,
          370,
          370,
          370,
          370,
          370,
          371,
          371,
          371,
          371,
          371,
          371,
          371,
          371,
          372,
          372,
          372,
          372,
          372,
          373,
          373,
          373,
          374,
          374,
          375,
          375,
          375,
          375,
          375,
          376,
          376,
          376,
          376,
          376,
          377,
          377,
          377,
          377,
          378,
          378,
          378,
          378,
          378,
          378,
          378,
          379,
          379,
          379,
          379,
          379,
          379,
          379,
          380,
          380,
          380,
          381,
          381,
          381,
          381,
          381,
          381,
          381,
          381,
          382,
          382,
          382,
          382,
          382,
          383,
          384,
          384,
          384,
          384,
          384,
          385,
          385,
          385,
          385,
          385,
          385,
          385,
          385,
          385,
          386,
          386,
          386,
          386,
          386,
          387,
          387,
          387,
          388,
          390,
          390,
          390,
          391,
          391,
          391,
          391,
          391,
          391,
          391,
          391,
          392,
          392,
          393,
          393,
          393,
          393,
          393,
          393,
          394,
          394,
          394,
          394,
          395,
          395,
          395,
          395,
          396,
          396,
          396,
          397,
          397,
          397,
          398,
          398,
          398,
          399,
          399,
          399,
          400,
          400,
          400,
          400,
          401,
          401,
          401,
          401,
          402,
          402,
          402,
          402,
          403,
          403,
          403,
          403,
          404,
          404,
          404,
          404,
          406,
          406,
          408,
          408,
          409,
          409,
          409,
          409,
          410,
          411,
          411,
          412,
          412,
          413,
          413,
          413,
          414,
          414,
          415,
          416,
          416,
          416,
          416,
          416,
          416,
          417,
          417,
          417,
          418,
          418,
          418,
          418,
          418,
          419,
          419,
          420,
          420,
          420,
          421,
          421,
          421,
          421,
          422,
          422,
          423,
          423,
          423,
          424,
          425,
          426,
          426,
          426,
          426,
          426,
          427,
          427,
          429,
          432,
          432,
          433,
          433,
          433,
          434,
          434,
          435,
          435,
          436,
          436,
          437,
          437,
          438,
          438,
          438,
          440,
          440,
          440,
          440,
          441,
          441,
          441,
          443,
          444,
          445,
          445,
          446,
          446,
          447,
          447,
          449,
          449,
          449,
          449,
          451,
          451,
          452,
          454,
          455,
          455,
          456,
          456,
          458,
          460,
          462,
          463,
          464,
          465,
          465,
          468,
          471,
          471,
          472,
          472,
          473,
          474,
          474,
          474,
          475,
          475,
          477,
          478,
          478,
          480,
          481,
          483,
          486,
          486,
          488,
          489,
          489,
          490,
          491,
          492,
          492,
          493,
          496,
          496,
          496,
          497,
          498,
          499,
          506,
          508,
          512,
          514,
          517,
          519,
          523,
          523,
          533,
          537,
          539,
          545,
          553,
          557,
          561,
          563,
          564,
          568,
          568,
          574,
          575,
          581,
          584,
          590,
          594,
          604,
          648,
          651,
          654,
          659,
          660,
          682,
          688,
          735
         ],
         "yaxis": "y"
        }
       ],
       "layout": {
        "autosize": true,
        "legend": {
         "tracegroupgap": 0
        },
        "template": {
         "data": {
          "bar": [
           {
            "error_x": {
             "color": "#2a3f5f"
            },
            "error_y": {
             "color": "#2a3f5f"
            },
            "marker": {
             "line": {
              "color": "white",
              "width": 0.5
             },
             "pattern": {
              "fillmode": "overlay",
              "size": 10,
              "solidity": 0.2
             }
            },
            "type": "bar"
           }
          ],
          "barpolar": [
           {
            "marker": {
             "line": {
              "color": "white",
              "width": 0.5
             },
             "pattern": {
              "fillmode": "overlay",
              "size": 10,
              "solidity": 0.2
             }
            },
            "type": "barpolar"
           }
          ],
          "carpet": [
           {
            "aaxis": {
             "endlinecolor": "#2a3f5f",
             "gridcolor": "#C8D4E3",
             "linecolor": "#C8D4E3",
             "minorgridcolor": "#C8D4E3",
             "startlinecolor": "#2a3f5f"
            },
            "baxis": {
             "endlinecolor": "#2a3f5f",
             "gridcolor": "#C8D4E3",
             "linecolor": "#C8D4E3",
             "minorgridcolor": "#C8D4E3",
             "startlinecolor": "#2a3f5f"
            },
            "type": "carpet"
           }
          ],
          "choropleth": [
           {
            "colorbar": {
             "outlinewidth": 0,
             "ticks": ""
            },
            "type": "choropleth"
           }
          ],
          "contour": [
           {
            "colorbar": {
             "outlinewidth": 0,
             "ticks": ""
            },
            "colorscale": [
             [
              0,
              "#0d0887"
             ],
             [
              0.1111111111111111,
              "#46039f"
             ],
             [
              0.2222222222222222,
              "#7201a8"
             ],
             [
              0.3333333333333333,
              "#9c179e"
             ],
             [
              0.4444444444444444,
              "#bd3786"
             ],
             [
              0.5555555555555556,
              "#d8576b"
             ],
             [
              0.6666666666666666,
              "#ed7953"
             ],
             [
              0.7777777777777778,
              "#fb9f3a"
             ],
             [
              0.8888888888888888,
              "#fdca26"
             ],
             [
              1,
              "#f0f921"
             ]
            ],
            "type": "contour"
           }
          ],
          "contourcarpet": [
           {
            "colorbar": {
             "outlinewidth": 0,
             "ticks": ""
            },
            "type": "contourcarpet"
           }
          ],
          "heatmap": [
           {
            "colorbar": {
             "outlinewidth": 0,
             "ticks": ""
            },
            "colorscale": [
             [
              0,
              "#0d0887"
             ],
             [
              0.1111111111111111,
              "#46039f"
             ],
             [
              0.2222222222222222,
              "#7201a8"
             ],
             [
              0.3333333333333333,
              "#9c179e"
             ],
             [
              0.4444444444444444,
              "#bd3786"
             ],
             [
              0.5555555555555556,
              "#d8576b"
             ],
             [
              0.6666666666666666,
              "#ed7953"
             ],
             [
              0.7777777777777778,
              "#fb9f3a"
             ],
             [
              0.8888888888888888,
              "#fdca26"
             ],
             [
              1,
              "#f0f921"
             ]
            ],
            "type": "heatmap"
           }
          ],
          "heatmapgl": [
           {
            "colorbar": {
             "outlinewidth": 0,
             "ticks": ""
            },
            "colorscale": [
             [
              0,
              "#0d0887"
             ],
             [
              0.1111111111111111,
              "#46039f"
             ],
             [
              0.2222222222222222,
              "#7201a8"
             ],
             [
              0.3333333333333333,
              "#9c179e"
             ],
             [
              0.4444444444444444,
              "#bd3786"
             ],
             [
              0.5555555555555556,
              "#d8576b"
             ],
             [
              0.6666666666666666,
              "#ed7953"
             ],
             [
              0.7777777777777778,
              "#fb9f3a"
             ],
             [
              0.8888888888888888,
              "#fdca26"
             ],
             [
              1,
              "#f0f921"
             ]
            ],
            "type": "heatmapgl"
           }
          ],
          "histogram": [
           {
            "marker": {
             "pattern": {
              "fillmode": "overlay",
              "size": 10,
              "solidity": 0.2
             }
            },
            "type": "histogram"
           }
          ],
          "histogram2d": [
           {
            "colorbar": {
             "outlinewidth": 0,
             "ticks": ""
            },
            "colorscale": [
             [
              0,
              "#0d0887"
             ],
             [
              0.1111111111111111,
              "#46039f"
             ],
             [
              0.2222222222222222,
              "#7201a8"
             ],
             [
              0.3333333333333333,
              "#9c179e"
             ],
             [
              0.4444444444444444,
              "#bd3786"
             ],
             [
              0.5555555555555556,
              "#d8576b"
             ],
             [
              0.6666666666666666,
              "#ed7953"
             ],
             [
              0.7777777777777778,
              "#fb9f3a"
             ],
             [
              0.8888888888888888,
              "#fdca26"
             ],
             [
              1,
              "#f0f921"
             ]
            ],
            "type": "histogram2d"
           }
          ],
          "histogram2dcontour": [
           {
            "colorbar": {
             "outlinewidth": 0,
             "ticks": ""
            },
            "colorscale": [
             [
              0,
              "#0d0887"
             ],
             [
              0.1111111111111111,
              "#46039f"
             ],
             [
              0.2222222222222222,
              "#7201a8"
             ],
             [
              0.3333333333333333,
              "#9c179e"
             ],
             [
              0.4444444444444444,
              "#bd3786"
             ],
             [
              0.5555555555555556,
              "#d8576b"
             ],
             [
              0.6666666666666666,
              "#ed7953"
             ],
             [
              0.7777777777777778,
              "#fb9f3a"
             ],
             [
              0.8888888888888888,
              "#fdca26"
             ],
             [
              1,
              "#f0f921"
             ]
            ],
            "type": "histogram2dcontour"
           }
          ],
          "mesh3d": [
           {
            "colorbar": {
             "outlinewidth": 0,
             "ticks": ""
            },
            "type": "mesh3d"
           }
          ],
          "parcoords": [
           {
            "line": {
             "colorbar": {
              "outlinewidth": 0,
              "ticks": ""
             }
            },
            "type": "parcoords"
           }
          ],
          "pie": [
           {
            "automargin": true,
            "type": "pie"
           }
          ],
          "scatter": [
           {
            "fillpattern": {
             "fillmode": "overlay",
             "size": 10,
             "solidity": 0.2
            },
            "type": "scatter"
           }
          ],
          "scatter3d": [
           {
            "line": {
             "colorbar": {
              "outlinewidth": 0,
              "ticks": ""
             }
            },
            "marker": {
             "colorbar": {
              "outlinewidth": 0,
              "ticks": ""
             }
            },
            "type": "scatter3d"
           }
          ],
          "scattercarpet": [
           {
            "marker": {
             "colorbar": {
              "outlinewidth": 0,
              "ticks": ""
             }
            },
            "type": "scattercarpet"
           }
          ],
          "scattergeo": [
           {
            "marker": {
             "colorbar": {
              "outlinewidth": 0,
              "ticks": ""
             }
            },
            "type": "scattergeo"
           }
          ],
          "scattergl": [
           {
            "marker": {
             "colorbar": {
              "outlinewidth": 0,
              "ticks": ""
             }
            },
            "type": "scattergl"
           }
          ],
          "scattermapbox": [
           {
            "marker": {
             "colorbar": {
              "outlinewidth": 0,
              "ticks": ""
             }
            },
            "type": "scattermapbox"
           }
          ],
          "scatterpolar": [
           {
            "marker": {
             "colorbar": {
              "outlinewidth": 0,
              "ticks": ""
             }
            },
            "type": "scatterpolar"
           }
          ],
          "scatterpolargl": [
           {
            "marker": {
             "colorbar": {
              "outlinewidth": 0,
              "ticks": ""
             }
            },
            "type": "scatterpolargl"
           }
          ],
          "scatterternary": [
           {
            "marker": {
             "colorbar": {
              "outlinewidth": 0,
              "ticks": ""
             }
            },
            "type": "scatterternary"
           }
          ],
          "surface": [
           {
            "colorbar": {
             "outlinewidth": 0,
             "ticks": ""
            },
            "colorscale": [
             [
              0,
              "#0d0887"
             ],
             [
              0.1111111111111111,
              "#46039f"
             ],
             [
              0.2222222222222222,
              "#7201a8"
             ],
             [
              0.3333333333333333,
              "#9c179e"
             ],
             [
              0.4444444444444444,
              "#bd3786"
             ],
             [
              0.5555555555555556,
              "#d8576b"
             ],
             [
              0.6666666666666666,
              "#ed7953"
             ],
             [
              0.7777777777777778,
              "#fb9f3a"
             ],
             [
              0.8888888888888888,
              "#fdca26"
             ],
             [
              1,
              "#f0f921"
             ]
            ],
            "type": "surface"
           }
          ],
          "table": [
           {
            "cells": {
             "fill": {
              "color": "#EBF0F8"
             },
             "line": {
              "color": "white"
             }
            },
            "header": {
             "fill": {
              "color": "#C8D4E3"
             },
             "line": {
              "color": "white"
             }
            },
            "type": "table"
           }
          ]
         },
         "layout": {
          "annotationdefaults": {
           "arrowcolor": "#2a3f5f",
           "arrowhead": 0,
           "arrowwidth": 1
          },
          "autotypenumbers": "strict",
          "coloraxis": {
           "colorbar": {
            "outlinewidth": 0,
            "ticks": ""
           }
          },
          "colorscale": {
           "diverging": [
            [
             0,
             "#8e0152"
            ],
            [
             0.1,
             "#c51b7d"
            ],
            [
             0.2,
             "#de77ae"
            ],
            [
             0.3,
             "#f1b6da"
            ],
            [
             0.4,
             "#fde0ef"
            ],
            [
             0.5,
             "#f7f7f7"
            ],
            [
             0.6,
             "#e6f5d0"
            ],
            [
             0.7,
             "#b8e186"
            ],
            [
             0.8,
             "#7fbc41"
            ],
            [
             0.9,
             "#4d9221"
            ],
            [
             1,
             "#276419"
            ]
           ],
           "sequential": [
            [
             0,
             "#0d0887"
            ],
            [
             0.1111111111111111,
             "#46039f"
            ],
            [
             0.2222222222222222,
             "#7201a8"
            ],
            [
             0.3333333333333333,
             "#9c179e"
            ],
            [
             0.4444444444444444,
             "#bd3786"
            ],
            [
             0.5555555555555556,
             "#d8576b"
            ],
            [
             0.6666666666666666,
             "#ed7953"
            ],
            [
             0.7777777777777778,
             "#fb9f3a"
            ],
            [
             0.8888888888888888,
             "#fdca26"
            ],
            [
             1,
             "#f0f921"
            ]
           ],
           "sequentialminus": [
            [
             0,
             "#0d0887"
            ],
            [
             0.1111111111111111,
             "#46039f"
            ],
            [
             0.2222222222222222,
             "#7201a8"
            ],
            [
             0.3333333333333333,
             "#9c179e"
            ],
            [
             0.4444444444444444,
             "#bd3786"
            ],
            [
             0.5555555555555556,
             "#d8576b"
            ],
            [
             0.6666666666666666,
             "#ed7953"
            ],
            [
             0.7777777777777778,
             "#fb9f3a"
            ],
            [
             0.8888888888888888,
             "#fdca26"
            ],
            [
             1,
             "#f0f921"
            ]
           ]
          },
          "colorway": [
           "#636efa",
           "#EF553B",
           "#00cc96",
           "#ab63fa",
           "#FFA15A",
           "#19d3f3",
           "#FF6692",
           "#B6E880",
           "#FF97FF",
           "#FECB52"
          ],
          "font": {
           "color": "#2a3f5f"
          },
          "geo": {
           "bgcolor": "white",
           "lakecolor": "white",
           "landcolor": "white",
           "showlakes": true,
           "showland": true,
           "subunitcolor": "#C8D4E3"
          },
          "hoverlabel": {
           "align": "left"
          },
          "hovermode": "closest",
          "mapbox": {
           "style": "light"
          },
          "paper_bgcolor": "white",
          "plot_bgcolor": "white",
          "polar": {
           "angularaxis": {
            "gridcolor": "#EBF0F8",
            "linecolor": "#EBF0F8",
            "ticks": ""
           },
           "bgcolor": "white",
           "radialaxis": {
            "gridcolor": "#EBF0F8",
            "linecolor": "#EBF0F8",
            "ticks": ""
           }
          },
          "scene": {
           "xaxis": {
            "backgroundcolor": "white",
            "gridcolor": "#DFE8F3",
            "gridwidth": 2,
            "linecolor": "#EBF0F8",
            "showbackground": true,
            "ticks": "",
            "zerolinecolor": "#EBF0F8"
           },
           "yaxis": {
            "backgroundcolor": "white",
            "gridcolor": "#DFE8F3",
            "gridwidth": 2,
            "linecolor": "#EBF0F8",
            "showbackground": true,
            "ticks": "",
            "zerolinecolor": "#EBF0F8"
           },
           "zaxis": {
            "backgroundcolor": "white",
            "gridcolor": "#DFE8F3",
            "gridwidth": 2,
            "linecolor": "#EBF0F8",
            "showbackground": true,
            "ticks": "",
            "zerolinecolor": "#EBF0F8"
           }
          },
          "shapedefaults": {
           "line": {
            "color": "#2a3f5f"
           }
          },
          "ternary": {
           "aaxis": {
            "gridcolor": "#DFE8F3",
            "linecolor": "#A2B1C6",
            "ticks": ""
           },
           "baxis": {
            "gridcolor": "#DFE8F3",
            "linecolor": "#A2B1C6",
            "ticks": ""
           },
           "bgcolor": "white",
           "caxis": {
            "gridcolor": "#DFE8F3",
            "linecolor": "#A2B1C6",
            "ticks": ""
           }
          },
          "title": {
           "x": 0.05
          },
          "xaxis": {
           "automargin": true,
           "gridcolor": "#EBF0F8",
           "linecolor": "#EBF0F8",
           "ticks": "",
           "title": {
            "standoff": 15
           },
           "zerolinecolor": "#EBF0F8",
           "zerolinewidth": 2
          },
          "yaxis": {
           "automargin": true,
           "gridcolor": "#EBF0F8",
           "linecolor": "#EBF0F8",
           "ticks": "",
           "title": {
            "standoff": 15
           },
           "zerolinecolor": "#EBF0F8",
           "zerolinewidth": 2
          }
         }
        },
        "title": {
         "text": "SAT Math Average Score and school attendance"
        },
        "xaxis": {
         "anchor": "y",
         "autorange": true,
         "domain": [
          0,
          1
         ],
         "range": [
          41.6616918678498,
          101.84943867737019
         ],
         "title": {
          "text": "Percentage_present"
         },
         "type": "linear"
        },
        "yaxis": {
         "anchor": "x",
         "autorange": true,
         "domain": [
          0,
          1
         ],
         "range": [
          277.0922330097087,
          769.9077669902913
         ],
         "title": {
          "text": "SAT Math Average Score"
         },
         "type": "linear"
        }
       }
      },
      "image/png": "[encoded data removed]",
      "text/html": [
       "<div>                            <div id=\"aff28213-6331-4d1c-ac46-3dd7eaeec961\" class=\"plotly-graph-div\" style=\"height:525px; width:100%;\"></div>            <script type=\"text/javascript\">                require([\"plotly\"], function(Plotly) {                    window.PLOTLYENV=window.PLOTLYENV || {};                                    if (document.getElementById(\"aff28213-6331-4d1c-ac46-3dd7eaeec961\")) {                    Plotly.newPlot(                        \"aff28213-6331-4d1c-ac46-3dd7eaeec961\",                        [{\"hovertemplate\":\"Percentage_present=%{x}\\u003cbr\\u003eSAT Math Average Score=%{y}\\u003cextra\\u003e\\u003c\\u002fextra\\u003e\",\"legendgroup\":\"\",\"marker\":{\"color\":\"#636efa\",\"symbol\":\"circle\"},\"mode\":\"markers\",\"name\":\"\",\"orientation\":\"v\",\"showlegend\":false,\"x\":[83.24087694054008,77.97373453600797,60.09469823572446,68.02238414417573,89.6308192743532,75.38669255915192,85.52025954489574,87.97522256028134,82.90470887909638,83.89230855647887,83.44458442268237,88.2021999656028,78.7879227912183,61.43105299305135,90.98901668092013,81.75088761763087,65.18080556624963,81.19404419849668,80.64626034726578,76.757195172102,82.64941089526077,80.28260515319514,89.46487725282216,85.73528055750418,91.71715188227049,82.5653631659038,85.14990614696512,81.95978074140835,80.26028743384457,76.3840595326944,70.69805819392653,82.3196210423925,78.42905992064243,84.9430691446193,87.95523752571687,82.85025753522089,45.81485303544841,76.45983852199899,72.24582251431704,87.82226866556907,73.94429248457308,76.32747346499491,56.17829258563188,70.95978993805375,81.42608577730869,82.26333438503676,85.80417429207516,81.07597548381676,73.23582673015973,76.23382053243171,79.6116733659986,84.0411030798823,74.8422687251132,83.04153193442085,78.25906215474598,78.86561311451952,85.00111517698579,76.6620513836716,68.4189443334462,79.94765510495981,70.12162631190274,63.27348859353953,84.73022212986803,93.53218869741909,77.01428114194924,79.6340670721701,81.38445781587211,73.80096629624053,88.67466178266994,79.83063170039478,65.19611947707321,77.73498279143766,79.47404332861859,70.83341235763714,86.29592258011697,82.50923709342898,89.00130648471338,86.90422279428441,82.42323165951427,77.4838619163718,75.44395747625279,81.33459444838017,57.681597384343554,78.37316979479218,61.76240294523353,64.16799966288377,77.55806017346495,86.11071342330767,60.648983905183655,85.2818569550196,83.88642080084364,76.41299286108438,65.25891616345002,81.10158941115657,82.52870831402726,84.30395111065903,80.77098845832569,63.94188693440316,73.1952874377319,81.41703632317368,89.91904421404715,89.86074006876771,62.1961563675373,84.65060099199827,45.9563724685615,51.598915744833704,84.78611186439022,82.45614355171764,83.14688866350801,84.28225352813067,83.05964113749509,83.60645297345285,86.12187948233748,47.800650153071636,82.69775057570754,76.65828656035843,76.7264132120336,89.52297432802584,82.09017540226802,82.18988817064398,81.03782573028808,82.72924527464399,88.97949543759916,85.48410295014693,85.74058228461925,83.93194790929478,80.32856933091256,84.02857868088014,91.33161770135229,86.97133674525764,75.93192151600641,82.56298052684599,86.43121013337264,82.35458272989491,74.52742733386566,87.98920117937449,81.15447800816146,92.82082052459795,79.51599536331217,86.41545699157952,89.46155866924137,72.90535499992642,85.05001776265351,89.43540403091231,86.58002785608856,93.99508434919667,82.16915985733282,91.5246210840031,72.56017210096472,66.83384775334126,70.00302651848683,74.640517257734,90.27328785363832,75.79677040843868,86.33449902155567,86.47657508303752,87.30979849243687,76.18034107863603,81.11937253136492,76.80124890855309,81.52637381741286,72.14293434669119,87.43955037272912,90.07135891838767,81.45142946969355,83.78070752556775,66.92995180742862,84.10961623365762,74.8169239970025,73.23894732775105,79.70931347875697,81.41263076857958,87.65563310745377,76.40448159377513,83.86530323227677,71.77270698517675,86.28468201690639,71.17937162777507,84.12249324673563,75.818308963195,79.6728535330935,61.9437995246551,84.18574719037709,85.6924962468486,86.13148547104136,84.29983312009549,79.18244981103288,85.76618002993227,75.97821871598597,86.41855873921861,86.72143175520822,82.58811608808479,92.01302333318009,82.26898987076888,87.88408059630099,82.21691315991546,90.81704365671898,89.16491451348905,86.64502206018598,86.16850817258053,84.2890855716558,82.6377747886638,81.41869846601047,87.34999742577833,77.43424735470639,58.137044201616845,78.53092620292013,86.3581725604867,81.44354073902656,87.90988776504712,86.84838291897252,84.74223316309329,81.76690930456087,87.68152164836559,86.23518469956484,80.58918495839785,78.75065303524597,84.09655896784832,87.54480432724817,81.57695556216939,73.49823577969342,63.761074977973415,82.46028941013176,86.86736710331934,84.31681280470539,87.53480704678046,87.84638371028495,86.34273679214004,66.5789255657657,85.68227029988178,90.58590851019412,61.31758267342071,78.3408601218962,79.5826328106633,76.55867643360496,93.79935943747061,88.85586925836498,83.92924829668647,67.25247997886818,87.2544176318734,79.67415457112936,93.32380579241214,79.41331442328374,86.46602828424413,89.52927451214526,80.862071470507,79.50739600668913,89.18852290536921,81.2953912908543,87.54361711403203,90.54086548875758,86.92403613840659,82.93120513099727,79.34307994619446,82.97918597511567,84.5302202758099,80.73387078227073,64.9802315320504,81.0446849633519,65.8369029067267,79.27926299298943,90.27335005551514,93.77225748923557,80.36650866660624,87.90248396195307,87.01798909654846,87.09828577898536,72.28015864105997,87.72901104945608,87.6975608577338,84.36140802771085,79.38282691452142,79.33537950955434,88.96784978209702,63.155846194869405,93.9461753802709,88.90961349812028,90.44481485922044,85.07807871630568,79.41053429637628,84.33515489005364,88.35525057963548,91.73422899067462,77.77808495994579,78.22216556080865,79.31766045836218,83.5523759101137,79.79442881684321,86.47768499957513,91.28522887409082,90.63311710030845,83.28324095438597,88.70653456593769,89.06921346135655,85.88739404032161,79.7656985178184,81.84333441288544,87.25444338567007,91.03674332562285,91.0794495484795,93.28857982146138,88.5407273903968,77.30468008846746,87.40663627006337,86.77369943367415,87.04763428708381,92.48380682524379,90.5410173310159,83.7819216851852,62.630039753303464,93.2237268079535,77.46304334968148,85.51656704346098,82.5472537534845,92.59200191682473,89.52316872109755,92.57117565849904,88.33935985051876,85.44014263300333,88.64909627165633,91.02482512184851,90.5138848319244,89.48453040138246,83.72360344772589,83.29634619981421,91.65605302922816,89.17745211922804,85.47116109600077,93.42788309771419,83.00240272140442,92.48462370330515,93.37672291903706,87.82199912077913,72.52855770853321,88.6624648124763,93.68651257498732,89.61945256276395,92.5292391158302,91.73948678998606,91.2532863585592,86.17236275797006,90.11837337461738,92.20741023730542,87.01158934699015,88.58047212585856,81.31166799451746,90.3991166396118,93.41587870572975,97.50557759889962,91.4720089899319,83.75861616181149,89.95981143612467,91.98605039049413,90.52206439563362,44.84090919367999,92.18242420561302,90.11004687755812,91.69538420648622,88.24955648925287,92.61875054053318,89.73961403831893,84.98025386534303,90.10542773313689,87.52137957834236,88.54785465183946,86.82712222956651,92.85714302178403,93.24104385295647,94.16002616823029,89.79063646892031,95.59856726199912,90.89473582174077,91.37296033183289,89.78354372998123,90.88012813456601,85.9486421529253,96.47566231062692,98.67022135154,92.93089855786563,92.76524686120831,63.89332173253331,92.65873716394017,91.56801949764396,90.76950696864368,95.12806654633516,91.7710739191087,91.82057384528154,91.00527770512123,95.92330319921813,88.34510862695154,94.72152243305054,97.51644832308983,95.08424310065729,93.84041716267276,96.60393872168466,93.03726695111533,95.654405432099,98.00947805934597,94.78305580895058,93.48439260768568,96.0008946890645,94.61306551179744,96.74083680646933,97.62159705130365,94.11292490291764,95.92439085293172,96.81748243552939,96.0808238160937,97.27794074646563,96.46563708476421],\"xaxis\":\"x\",\"y\":[312.0,315.0,317.0,318.0,320.0,322.0,323.0,323.0,324.0,333.0,335.0,335.0,337.0,338.0,339.0,342.0,346.0,346.0,349.0,349.0,349.0,349.0,349.0,349.0,350.0,351.0,351.0,353.0,353.0,353.0,353.0,355.0,355.0,355.0,356.0,356.0,356.0,356.0,356.0,357.0,357.0,357.0,357.0,357.0,358.0,358.0,358.0,359.0,359.0,360.0,360.0,360.0,361.0,361.0,361.0,361.0,362.0,362.0,362.0,363.0,363.0,364.0,364.0,364.0,364.0,364.0,364.0,364.0,365.0,365.0,365.0,365.0,366.0,366.0,367.0,367.0,367.0,367.0,368.0,368.0,368.0,369.0,369.0,369.0,369.0,369.0,370.0,370.0,370.0,370.0,370.0,371.0,371.0,371.0,371.0,371.0,371.0,371.0,371.0,372.0,372.0,372.0,372.0,372.0,373.0,373.0,373.0,374.0,374.0,375.0,375.0,375.0,375.0,375.0,376.0,376.0,376.0,376.0,376.0,377.0,377.0,377.0,377.0,378.0,378.0,378.0,378.0,378.0,378.0,378.0,379.0,379.0,379.0,379.0,379.0,379.0,379.0,380.0,380.0,380.0,381.0,381.0,381.0,381.0,381.0,381.0,381.0,381.0,382.0,382.0,382.0,382.0,382.0,383.0,384.0,384.0,384.0,384.0,384.0,385.0,385.0,385.0,385.0,385.0,385.0,385.0,385.0,385.0,386.0,386.0,386.0,386.0,386.0,387.0,387.0,387.0,388.0,390.0,390.0,390.0,391.0,391.0,391.0,391.0,391.0,391.0,391.0,391.0,392.0,392.0,393.0,393.0,393.0,393.0,393.0,393.0,394.0,394.0,394.0,394.0,395.0,395.0,395.0,395.0,396.0,396.0,396.0,397.0,397.0,397.0,398.0,398.0,398.0,399.0,399.0,399.0,400.0,400.0,400.0,400.0,401.0,401.0,401.0,401.0,402.0,402.0,402.0,402.0,403.0,403.0,403.0,403.0,404.0,404.0,404.0,404.0,406.0,406.0,408.0,408.0,409.0,409.0,409.0,409.0,410.0,411.0,411.0,412.0,412.0,413.0,413.0,413.0,414.0,414.0,415.0,416.0,416.0,416.0,416.0,416.0,416.0,417.0,417.0,417.0,418.0,418.0,418.0,418.0,418.0,419.0,419.0,420.0,420.0,420.0,421.0,421.0,421.0,421.0,422.0,422.0,423.0,423.0,423.0,424.0,425.0,426.0,426.0,426.0,426.0,426.0,427.0,427.0,429.0,432.0,432.0,433.0,433.0,433.0,434.0,434.0,435.0,435.0,436.0,436.0,437.0,437.0,438.0,438.0,438.0,440.0,440.0,440.0,440.0,441.0,441.0,441.0,443.0,444.0,445.0,445.0,446.0,446.0,447.0,447.0,449.0,449.0,449.0,449.0,451.0,451.0,452.0,454.0,455.0,455.0,456.0,456.0,458.0,460.0,462.0,463.0,464.0,465.0,465.0,468.0,471.0,471.0,472.0,472.0,473.0,474.0,474.0,474.0,475.0,475.0,477.0,478.0,478.0,480.0,481.0,483.0,486.0,486.0,488.0,489.0,489.0,490.0,491.0,492.0,492.0,493.0,496.0,496.0,496.0,497.0,498.0,499.0,506.0,508.0,512.0,514.0,517.0,519.0,523.0,523.0,533.0,537.0,539.0,545.0,553.0,557.0,561.0,563.0,564.0,568.0,568.0,574.0,575.0,581.0,584.0,590.0,594.0,604.0,648.0,651.0,654.0,659.0,660.0,682.0,688.0,735.0],\"yaxis\":\"y\",\"type\":\"scatter\"}],                        {\"template\":{\"data\":{\"barpolar\":[{\"marker\":{\"line\":{\"color\":\"white\",\"width\":0.5},\"pattern\":{\"fillmode\":\"overlay\",\"size\":10,\"solidity\":0.2}},\"type\":\"barpolar\"}],\"bar\":[{\"error_x\":{\"color\":\"#2a3f5f\"},\"error_y\":{\"color\":\"#2a3f5f\"},\"marker\":{\"line\":{\"color\":\"white\",\"width\":0.5},\"pattern\":{\"fillmode\":\"overlay\",\"size\":10,\"solidity\":0.2}},\"type\":\"bar\"}],\"carpet\":[{\"aaxis\":{\"endlinecolor\":\"#2a3f5f\",\"gridcolor\":\"#C8D4E3\",\"linecolor\":\"#C8D4E3\",\"minorgridcolor\":\"#C8D4E3\",\"startlinecolor\":\"#2a3f5f\"},\"baxis\":{\"endlinecolor\":\"#2a3f5f\",\"gridcolor\":\"#C8D4E3\",\"linecolor\":\"#C8D4E3\",\"minorgridcolor\":\"#C8D4E3\",\"startlinecolor\":\"#2a3f5f\"},\"type\":\"carpet\"}],\"choropleth\":[{\"colorbar\":{\"outlinewidth\":0,\"ticks\":\"\"},\"type\":\"choropleth\"}],\"contourcarpet\":[{\"colorbar\":{\"outlinewidth\":0,\"ticks\":\"\"},\"type\":\"contourcarpet\"}],\"contour\":[{\"colorbar\":{\"outlinewidth\":0,\"ticks\":\"\"},\"colorscale\":[[0.0,\"#0d0887\"],[0.1111111111111111,\"#46039f\"],[0.2222222222222222,\"#7201a8\"],[0.3333333333333333,\"#9c179e\"],[0.4444444444444444,\"#bd3786\"],[0.5555555555555556,\"#d8576b\"],[0.6666666666666666,\"#ed7953\"],[0.7777777777777778,\"#fb9f3a\"],[0.8888888888888888,\"#fdca26\"],[1.0,\"#f0f921\"]],\"type\":\"contour\"}],\"heatmapgl\":[{\"colorbar\":{\"outlinewidth\":0,\"ticks\":\"\"},\"colorscale\":[[0.0,\"#0d0887\"],[0.1111111111111111,\"#46039f\"],[0.2222222222222222,\"#7201a8\"],[0.3333333333333333,\"#9c179e\"],[0.4444444444444444,\"#bd3786\"],[0.5555555555555556,\"#d8576b\"],[0.6666666666666666,\"#ed7953\"],[0.7777777777777778,\"#fb9f3a\"],[0.8888888888888888,\"#fdca26\"],[1.0,\"#f0f921\"]],\"type\":\"heatmapgl\"}],\"heatmap\":[{\"colorbar\":{\"outlinewidth\":0,\"ticks\":\"\"},\"colorscale\":[[0.0,\"#0d0887\"],[0.1111111111111111,\"#46039f\"],[0.2222222222222222,\"#7201a8\"],[0.3333333333333333,\"#9c179e\"],[0.4444444444444444,\"#bd3786\"],[0.5555555555555556,\"#d8576b\"],[0.6666666666666666,\"#ed7953\"],[0.7777777777777778,\"#fb9f3a\"],[0.8888888888888888,\"#fdca26\"],[1.0,\"#f0f921\"]],\"type\":\"heatmap\"}],\"histogram2dcontour\":[{\"colorbar\":{\"outlinewidth\":0,\"ticks\":\"\"},\"colorscale\":[[0.0,\"#0d0887\"],[0.1111111111111111,\"#46039f\"],[0.2222222222222222,\"#7201a8\"],[0.3333333333333333,\"#9c179e\"],[0.4444444444444444,\"#bd3786\"],[0.5555555555555556,\"#d8576b\"],[0.6666666666666666,\"#ed7953\"],[0.7777777777777778,\"#fb9f3a\"],[0.8888888888888888,\"#fdca26\"],[1.0,\"#f0f921\"]],\"type\":\"histogram2dcontour\"}],\"histogram2d\":[{\"colorbar\":{\"outlinewidth\":0,\"ticks\":\"\"},\"colorscale\":[[0.0,\"#0d0887\"],[0.1111111111111111,\"#46039f\"],[0.2222222222222222,\"#7201a8\"],[0.3333333333333333,\"#9c179e\"],[0.4444444444444444,\"#bd3786\"],[0.5555555555555556,\"#d8576b\"],[0.6666666666666666,\"#ed7953\"],[0.7777777777777778,\"#fb9f3a\"],[0.8888888888888888,\"#fdca26\"],[1.0,\"#f0f921\"]],\"type\":\"histogram2d\"}],\"histogram\":[{\"marker\":{\"pattern\":{\"fillmode\":\"overlay\",\"size\":10,\"solidity\":0.2}},\"type\":\"histogram\"}],\"mesh3d\":[{\"colorbar\":{\"outlinewidth\":0,\"ticks\":\"\"},\"type\":\"mesh3d\"}],\"parcoords\":[{\"line\":{\"colorbar\":{\"outlinewidth\":0,\"ticks\":\"\"}},\"type\":\"parcoords\"}],\"pie\":[{\"automargin\":true,\"type\":\"pie\"}],\"scatter3d\":[{\"line\":{\"colorbar\":{\"outlinewidth\":0,\"ticks\":\"\"}},\"marker\":{\"colorbar\":{\"outlinewidth\":0,\"ticks\":\"\"}},\"type\":\"scatter3d\"}],\"scattercarpet\":[{\"marker\":{\"colorbar\":{\"outlinewidth\":0,\"ticks\":\"\"}},\"type\":\"scattercarpet\"}],\"scattergeo\":[{\"marker\":{\"colorbar\":{\"outlinewidth\":0,\"ticks\":\"\"}},\"type\":\"scattergeo\"}],\"scattergl\":[{\"marker\":{\"colorbar\":{\"outlinewidth\":0,\"ticks\":\"\"}},\"type\":\"scattergl\"}],\"scattermapbox\":[{\"marker\":{\"colorbar\":{\"outlinewidth\":0,\"ticks\":\"\"}},\"type\":\"scattermapbox\"}],\"scatterpolargl\":[{\"marker\":{\"colorbar\":{\"outlinewidth\":0,\"ticks\":\"\"}},\"type\":\"scatterpolargl\"}],\"scatterpolar\":[{\"marker\":{\"colorbar\":{\"outlinewidth\":0,\"ticks\":\"\"}},\"type\":\"scatterpolar\"}],\"scatter\":[{\"fillpattern\":{\"fillmode\":\"overlay\",\"size\":10,\"solidity\":0.2},\"type\":\"scatter\"}],\"scatterternary\":[{\"marker\":{\"colorbar\":{\"outlinewidth\":0,\"ticks\":\"\"}},\"type\":\"scatterternary\"}],\"surface\":[{\"colorbar\":{\"outlinewidth\":0,\"ticks\":\"\"},\"colorscale\":[[0.0,\"#0d0887\"],[0.1111111111111111,\"#46039f\"],[0.2222222222222222,\"#7201a8\"],[0.3333333333333333,\"#9c179e\"],[0.4444444444444444,\"#bd3786\"],[0.5555555555555556,\"#d8576b\"],[0.6666666666666666,\"#ed7953\"],[0.7777777777777778,\"#fb9f3a\"],[0.8888888888888888,\"#fdca26\"],[1.0,\"#f0f921\"]],\"type\":\"surface\"}],\"table\":[{\"cells\":{\"fill\":{\"color\":\"#EBF0F8\"},\"line\":{\"color\":\"white\"}},\"header\":{\"fill\":{\"color\":\"#C8D4E3\"},\"line\":{\"color\":\"white\"}},\"type\":\"table\"}]},\"layout\":{\"annotationdefaults\":{\"arrowcolor\":\"#2a3f5f\",\"arrowhead\":0,\"arrowwidth\":1},\"autotypenumbers\":\"strict\",\"coloraxis\":{\"colorbar\":{\"outlinewidth\":0,\"ticks\":\"\"}},\"colorscale\":{\"diverging\":[[0,\"#8e0152\"],[0.1,\"#c51b7d\"],[0.2,\"#de77ae\"],[0.3,\"#f1b6da\"],[0.4,\"#fde0ef\"],[0.5,\"#f7f7f7\"],[0.6,\"#e6f5d0\"],[0.7,\"#b8e186\"],[0.8,\"#7fbc41\"],[0.9,\"#4d9221\"],[1,\"#276419\"]],\"sequential\":[[0.0,\"#0d0887\"],[0.1111111111111111,\"#46039f\"],[0.2222222222222222,\"#7201a8\"],[0.3333333333333333,\"#9c179e\"],[0.4444444444444444,\"#bd3786\"],[0.5555555555555556,\"#d8576b\"],[0.6666666666666666,\"#ed7953\"],[0.7777777777777778,\"#fb9f3a\"],[0.8888888888888888,\"#fdca26\"],[1.0,\"#f0f921\"]],\"sequentialminus\":[[0.0,\"#0d0887\"],[0.1111111111111111,\"#46039f\"],[0.2222222222222222,\"#7201a8\"],[0.3333333333333333,\"#9c179e\"],[0.4444444444444444,\"#bd3786\"],[0.5555555555555556,\"#d8576b\"],[0.6666666666666666,\"#ed7953\"],[0.7777777777777778,\"#fb9f3a\"],[0.8888888888888888,\"#fdca26\"],[1.0,\"#f0f921\"]]},\"colorway\":[\"#636efa\",\"#EF553B\",\"#00cc96\",\"#ab63fa\",\"#FFA15A\",\"#19d3f3\",\"#FF6692\",\"#B6E880\",\"#FF97FF\",\"#FECB52\"],\"font\":{\"color\":\"#2a3f5f\"},\"geo\":{\"bgcolor\":\"white\",\"lakecolor\":\"white\",\"landcolor\":\"white\",\"showlakes\":true,\"showland\":true,\"subunitcolor\":\"#C8D4E3\"},\"hoverlabel\":{\"align\":\"left\"},\"hovermode\":\"closest\",\"mapbox\":{\"style\":\"light\"},\"paper_bgcolor\":\"white\",\"plot_bgcolor\":\"white\",\"polar\":{\"angularaxis\":{\"gridcolor\":\"#EBF0F8\",\"linecolor\":\"#EBF0F8\",\"ticks\":\"\"},\"bgcolor\":\"white\",\"radialaxis\":{\"gridcolor\":\"#EBF0F8\",\"linecolor\":\"#EBF0F8\",\"ticks\":\"\"}},\"scene\":{\"xaxis\":{\"backgroundcolor\":\"white\",\"gridcolor\":\"#DFE8F3\",\"gridwidth\":2,\"linecolor\":\"#EBF0F8\",\"showbackground\":true,\"ticks\":\"\",\"zerolinecolor\":\"#EBF0F8\"},\"yaxis\":{\"backgroundcolor\":\"white\",\"gridcolor\":\"#DFE8F3\",\"gridwidth\":2,\"linecolor\":\"#EBF0F8\",\"showbackground\":true,\"ticks\":\"\",\"zerolinecolor\":\"#EBF0F8\"},\"zaxis\":{\"backgroundcolor\":\"white\",\"gridcolor\":\"#DFE8F3\",\"gridwidth\":2,\"linecolor\":\"#EBF0F8\",\"showbackground\":true,\"ticks\":\"\",\"zerolinecolor\":\"#EBF0F8\"}},\"shapedefaults\":{\"line\":{\"color\":\"#2a3f5f\"}},\"ternary\":{\"aaxis\":{\"gridcolor\":\"#DFE8F3\",\"linecolor\":\"#A2B1C6\",\"ticks\":\"\"},\"baxis\":{\"gridcolor\":\"#DFE8F3\",\"linecolor\":\"#A2B1C6\",\"ticks\":\"\"},\"bgcolor\":\"white\",\"caxis\":{\"gridcolor\":\"#DFE8F3\",\"linecolor\":\"#A2B1C6\",\"ticks\":\"\"}},\"title\":{\"x\":0.05},\"xaxis\":{\"automargin\":true,\"gridcolor\":\"#EBF0F8\",\"linecolor\":\"#EBF0F8\",\"ticks\":\"\",\"title\":{\"standoff\":15},\"zerolinecolor\":\"#EBF0F8\",\"zerolinewidth\":2},\"yaxis\":{\"automargin\":true,\"gridcolor\":\"#EBF0F8\",\"linecolor\":\"#EBF0F8\",\"ticks\":\"\",\"title\":{\"standoff\":15},\"zerolinecolor\":\"#EBF0F8\",\"zerolinewidth\":2}}},\"xaxis\":{\"anchor\":\"y\",\"domain\":[0.0,1.0],\"title\":{\"text\":\"Percentage_present\"}},\"yaxis\":{\"anchor\":\"x\",\"domain\":[0.0,1.0],\"title\":{\"text\":\"SAT Math Average Score\"}},\"legend\":{\"tracegroupgap\":0},\"title\":{\"text\":\"SAT Math Average Score and school attendance\"}},                        {\"responsive\": true}                    ).then(function(){\n",
       "                            \n",
       "var gd = document.getElementById('aff28213-6331-4d1c-ac46-3dd7eaeec961');\n",
       "var x = new MutationObserver(function (mutations, observer) {{\n",
       "        var display = window.getComputedStyle(gd).display;\n",
       "        if (!display || display === 'none') {{\n",
       "            console.log([gd, 'removed!']);\n",
       "            Plotly.purge(gd);\n",
       "            observer.disconnect();\n",
       "        }}\n",
       "}});\n",
       "\n",
       "// Listen for the removal of the full notebook cells\n",
       "var notebookContainer = gd.closest('#notebook-container');\n",
       "if (notebookContainer) {{\n",
       "    x.observe(notebookContainer, {childList: true});\n",
       "}}\n",
       "\n",
       "// Listen for the clearing of the current output cell\n",
       "var outputEl = gd.closest('.output');\n",
       "if (outputEl) {{\n",
       "    x.observe(outputEl, {childList: true});\n",
       "}}\n",
       "\n",
       "                        })                };                });            </script>        </div>"
      ]
     },
     "metadata": {},
     "output_type": "display_data"
    }
   ],
   "source": [
    "fig = px.scatter(\n",
    "    merged_schdata,\n",
    "    x='Percentage_present',\n",
    "    y='SAT Math Avg. Score',\n",
    "    title='SAT Math Average Score and school attendance',\n",
    "    labels={'Present': 'Percentage_present(Percentage of students present on average)', 'SAT Math Avg. Score': 'SAT Math Average Score'},\n",
    "    template='plotly_white'\n",
    "    )\n",
    "\n",
    "# Show the plot\n",
    "fig.show()"
   ]
  },
  {
   "cell_type": "markdown",
   "id": "19bc45a2-3a5a-4ccf-9916-f9d29e685022",
   "metadata": {},
   "source": [
    "The graph shows interesting findings. While it is not obvious that there is a strong relationship between higher attendance and a high SAT Math Average score, one may observe that students schools with average attendance less than 70% have a lower SAT Math Average score. Whereas, schools with attendance higher than 90% have a higher SAT Math Average score. The high score may not be a result of attendace since students with higher attendance may also have other factors contributing to a higher score. "
   ]
  },
  {
   "cell_type": "code",
   "execution_count": null,
   "id": "b9ce73fb-35a8-486a-99a1-8a6ab3058b6d",
   "metadata": {},
   "outputs": [],
   "source": []
  }
 ],
 "metadata": {
  "kernelspec": {
   "display_name": "Python 3 (ipykernel)",
   "language": "python",
   "name": "python3"
  },
  "language_info": {
   "codemirror_mode": {
    "name": "ipython",
    "version": 3
   },
   "file_extension": ".py",
   "mimetype": "text/x-python",
   "name": "python",
   "nbconvert_exporter": "python",
   "pygments_lexer": "ipython3",
   "version": "3.12.4"
  }
 },
 "nbformat": 4,
 "nbformat_minor": 5
}
